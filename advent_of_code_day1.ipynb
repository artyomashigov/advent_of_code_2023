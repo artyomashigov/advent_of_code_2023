{
 "cells": [
  {
   "cell_type": "markdown",
   "id": "73789537",
   "metadata": {},
   "source": [
    "## --- Day 1: Trebuchet?! ---\n",
    "Something is wrong with global snow production, and you've been selected to take a look. The Elves have even given you a map; on it, they've used stars to mark the top fifty locations that are likely to be having problems.\n",
    "\n",
    "You've been doing this long enough to know that to restore snow operations, you need to check all fifty stars by December 25th.\n",
    "\n",
    "Collect stars by solving puzzles. Two puzzles will be made available on each day in the Advent calendar; the second puzzle is unlocked when you complete the first. Each puzzle grants one star. Good luck!\n",
    "\n",
    "You try to ask why they can't just use a weather machine (\"not powerful enough\") and where they're even sending you (\"the sky\") and why your map looks mostly blank (\"you sure ask a lot of questions\") and hang on did you just say the sky (\"of course, where do you think snow comes from\") when you realize that the Elves are already loading you into a trebuchet (\"please hold still, we need to strap you in\").\n",
    "\n",
    "As they're making the final adjustments, they discover that their calibration document (your puzzle input) has been amended by a very young Elf who was apparently just excited to show off her art skills. Consequently, the Elves are having trouble reading the values on the document.\n",
    "\n",
    "The newly-improved calibration document consists of lines of text; each line originally contained a specific calibration value that the Elves now need to recover. On each line, the calibration value can be found by combining the first digit and the last digit (in that order) to form a single two-digit number.\n",
    "\n",
    "For example:\n",
    "\n",
    "1abc2\n",
    "pqr3stu8vwx\n",
    "a1b2c3d4e5f\n",
    "treb7uchet\n",
    "In this example, the calibration values of these four lines are 12, 38, 15, and 77. Adding these together produces 142.\n",
    "\n",
    "Consider your entire calibration document. What is the sum of all of the calibration values?"
   ]
  },
  {
   "cell_type": "code",
   "execution_count": 1,
   "id": "f031713d",
   "metadata": {},
   "outputs": [],
   "source": [
    "import requests"
   ]
  },
  {
   "cell_type": "code",
   "execution_count": 6,
   "id": "d39ba36b",
   "metadata": {},
   "outputs": [],
   "source": [
    "day1 = requests.get('https://raw.githubusercontent.com/artyomashigov/advent_of_code_2023/main/day1.txt').text.split()"
   ]
  },
  {
   "cell_type": "code",
   "execution_count": 7,
   "id": "4a00a5be",
   "metadata": {},
   "outputs": [
    {
     "name": "stdout",
     "output_type": "stream",
     "text": [
      "['2911threeninesdvxvheightwobm', '3three16xsxhpnqmzmnine8one', 'seven5khtwo891hlb', 'sixthreeqpzjpn195', 'jrnf3', 'qpzcfbfsrxthreenine3ksbghzzffsevenfive9', '2fxvxzzgdnfkzzh4eightnine7five', '4fourtwobjscjgtbvninesix', 'onetwofivelvnbcbn5', '6vjdtd1j1eightone', 'sshnxbjrt1', '5ljsxqjdxr91', '71six14rkdhdszbfz', 'khlm3', 'jnsjhqqtj6fourslpqntdzxpfive', '6eightp', 'qtqrcs6gdqmtznninexvpnrn', 'sevenrcdbnzfltt4seven3nzsixthreeszr', 'onefour96qtffc', 'klpksqsggbrffive1tdsfptnvs72', 'lsx3qrmznjrfnvvzveight5one', 'dqlrxck2fourkp6two464', '5niner3kcdsxqfoureightfive', 'lqtwo7sevensvghmsdjzbbdrhqjg4', 'xxtwo25', 'six6zxs8four8two', 'four7five3mcmhxxtm6', 'oneqdkmbvvnmf64three57', '9fourjgmhcnpjfhtm', '3lzjfvthreesevenzlbgpcslvrpglqseven', '6eight1', 'xxcgtrqzcjjtwosix7ninejzzsg3', '1cqxsix', '5tjmqldjsixsevenfour4fxxgsbjbxrffvzbxd', 'nine2mpcplqktt', 'rldf79eightonedfjvkvjjx', '3fiveeightoneightg', '95six4three', 'kfn487oneone1mckljv3', '2four6lcbvninezscnjjztwo3two', '469sevensixthree', 'vqvjll1seven78four', '1fmstxpg9', 'onefxtvjhxmfbgmf1three', 'threefivesix8onebxpdfkxddkdxnt', 'ninevkcxflcfhqx664', '328threexc4onetwo7', 'nine51', 'threefoureightv2', 'six58jsq69', '63gzvtseven3eightmnbrmtktseventhree', '3onepszzgskhjl6oneeight', 'llrrxkmrvz2three53', 'sevensevenvtqdnvf7qhjt1', '53eightkfrrtvsq', 'ninefxltvtgmrlhhdkbtbsevendrpgrcrq3two', 'm5hxxkgoneqfgmhndbdslvrjrnk5five', 'fourf9one3bzljjkdl', '7drfddqr4gzthreefour', 'seven61ninethreeln', '3spmthreeltlkfmcdvlfxvbnlmgsnsqskh3five', 'k93nine', 'jpbdrbvtpgzlfnqzfourfive79tmnhdm6two', 'dfqg4ghxvnrzstd4four52hzqkdpkdnb', '85dsixsevenmpcclxdjvsvppkpflhxqvgsjnbsvlcgv', 'threecvfdcnxfoursix8xjzcdtbnine', 'rgcxrc9nineeightwoxcb', 'three72', 'tpfrhlnkdptwo9vgqvdgfqdg9ninemrzeight', '8twonqffivelnlmpgmtwonine', 'snqgdxsczh5nineeightthreezqxmptlss9seven', 'zvsmmlgt8mzlhvbfftqnn6sevenfive', 'vfvdxfx1fourseven3194', '8j71psdplqssbhvxhbxzfivefive', 'dhbtmxvfjjkdkdvr6', 'mnkhzskxoneoneeightseventhreeseven3', 'sevenzzrt3vfcsxmqgh4', 'nbkxmzzcxtpqzvtninevfceight3tjqzsbq', 'j2', 'four53lz', 'jkrxvxl7pfq', 'bkfvvnrqsqfrmbzfournine9', 'eightonekgcgdpvqksthf9', 'jqseightfbdqxzllfrnnth4', '2gfhfpvqzs6vhcvjlrcsevenone', '78tworxggpzr', 'kst8eightsvvfzblthreethree', '63three9clsnvmkd', '2nfrb95hsrcqcnrvlqtnt', '71sevendmtwotdvz', 'kzkjqsseven6gqdkt', 'sevenseventjsvjsix6fnggzkvnine', '262', '5371twonine2fivetwonepb', '7g', 'eighteight9', '5xfjm', 'txhninezhplccmvkj2', 'dzxgmrjzthreedxtqthreecrkqgqhthree8', '9vngn', '5mngdkppsix9mtxzxjlmfz9one', '6seven5threeseven8seven', '9dxpznmpjv3eightsix', '6foursevenx', 'twoseven1', 'five1eightfqgbmtzone', 'fgl424seven', '7177fvc8rkdptrfour', '6sixbbhp89', 'four8twovpkrtnshhone5zfnpvfdl', '4threebmrpbhrnfpn', 'three2vrxztxn4xt1one', 'threetwo71', 'fivetwo6sixzfzxbgqeighttqfour', 'hbbgfhrqvxpqfourthree41', 'oneeight3xqlvnb56dtwo', '666two8', '24kgvqpqtngmlrtfmqfqprvrxzqsxjffour5rvffnntblhnr', 'dhmhrdntwo6', 'grkqnbfeightsevenjpvqmhmbxljrlthsixthree5czqlcvm', 'eightnjbjnpl6three', 'dxstwonesevenbqtqpjs5five', 'eightgrbmmnine7', '1one9', 'bqhbdkf3nine', 'sixjbckxghxr5xh', 'fivespsvx35five', '5foursixninedl6', 'xcbgsjhsix3threelbntcllhdjvqgone', 'seventwo1', 'rdfqxlh8sixcqknsix1onethree', '9b7sdpqsg5gn', 'threetwofourfive6fivesfive', 'k7', 'mzhthreerlrmfhzzlgzclmngn5sevenlxqnbq7', '1seven9621', 'fourvgrmxqkfqtbfivelvm312nsdjjhqcqs', 'fvnine8', 'fourpcvmdzbzsix7bqdffvsgvd', '51threeonemlccggqsxqthree', '14nine5rrzfseven3nine', 'gcq3nkkgdjlcdmjvrpthree7', 'sevenh4grcmgl', 'shjjpzcrljpmfsevennine4', 'five1sevendpjthd1', 'dncxsx3drbllpfxp75chrvhvbblsnrxshssjxvztljmqgb', 'bkrhmrbqtzznhzdt5ccnlxvnlvsdnsk', '3drxdrxsclrpt', '7eightsix', 'fourhdbsgsj79six', '5fiveeightninesixeightm44', 'four2five4rjnth3sone', 'threesixseven3', 'onenine45three', 'nine2qcrgnphbmnkronesix', 'dsmbgbhgrvone768bvlznvfivesixnine', 'four2three9', '66onesix', 'fhtqmgrz22lhqrhngrjd7', '8fiveonetwovd5onembnqk', 'spzzrkdf2', '92cgtsxninesixeightthree', '41n1two8bfrnqclvrxghmbtdtskv', 'mgmqskkcgf4zrttjstmfsnineggdnbbvnfour7eight', 'sevenjpdbdqh9cxvvzgbhtzntn59', 'ljh34fouronemonerk', '68one6271', '5sffblcpghqvqxfive7ninev', 'nineeight6bzvsdcks', '5ndsk4', 'vsix5twosevendv2', '4dvvtzjvcxr3eight5two', 'bmzrnveightthreesevensixsixbfplfcx3five', '5tmkgbdrj', '91tnkfconeb', 'cvfrdpkqtmbcrrzfz4v59cvglzjxseven', '7five6pz', '4svjpkzv6', '6476sixq4', '3f', '1qlbcrdgg', '9dzrjgr', 'spcsbjmfdlqnqdxthreefourdhpzzqkcxlfour2', 'eight7eight145cmllsqfhj', '7lb73mfhnhflp', '2sevenfive', 'kxgtbtcfour7twotdsj', 'eight72bcbtwohtjjdcpprfldglsix', 'eightgjrxptfdsvcpjnine7sevensixfrbnkdxl', 'onefive3bfdtfnjkhdsrzthreefour', 'xnsevenxxgckdztxf628nine', '2qfq', 'nbxd75hrdqnmfive2onenlchjfoneightlh', '6seventwofiveqfscgschrpjp2', 'skeightwofive4', '5bfjpsmdl', 'tjdnlshngvsnrbvmch69tqnslrhmkthree', '5sixfiveseven1ninenineonec', '26xclfjhbxplseven', 'oneoneh24229', 'two57twolpcnine8three', 'nznzdxxvrqninesevenrphxk48tmsj7', 'threelctkpmbkp38', 'eightsixthreepvxxntfqdcsx2', 'nrzg4three1sdggv9two', '3c2cgglrzk', 'ktbzmhmtx5sixglkfnfseven7', '4plzqdltwoptkndtbxpt7', 'fourrzcxbkpxthree8four', 'nine9ccsgftlfxpgvgt', '1five3', 'two9fhprhfkkljvgfgfgftskpndhqxtrnfxsndfourzbrrl9', '59svdgrxzsxgqdvhhztwo', 'sevensix833', '45', '5gnjcfour3hthree', '5three47', 'nine4six8', 'two84sevenmdjcvqfmjtqnine5two', '7dlrvr7jgftqp', 'onehgxf9', 'five713onesixsone', '6threelpchone6nineone', 'qhclhsnlghnineseven3', 'psgqpnbdhtj6eight2vgmbbrrzhtfxqvjxzrrdfrmvs', 'qm67krpfgpqjtgfivesmjtbhfddrbvbxtnnhj4', 'fivetwo4six', 'spfxkx5six5', 'one3pcmponehgcqqkrbplzbfivesevenhdzfcsl', 'dsgklztwo35eight5gzqtrckskgspkbcz', 'eight8twoonetwotwo72five', '9fiveqhhbml', 'p1five6qsgjvmmqdkjspn', '9three16', 'tntlhjmb8ngngvrsqtfdhghbkxt', '5483', 'four79fivexgkjfs2', '2ninetwo6tpknmfrpp9', '22ncgnnmlfxgsixprr6fzrbzznsvzcn', 'chzbgzh7', 'threesixhfptmhfrjlgkxj4nineone', '7914', '1six2seventwo', '34one16five', 'tgrlhbnq78twodbrspdkkpbrttwo3', 'fiveltsrqkqcfx9nine475sixvzbng', 'npdbnfiveninetmlk4lqnskpllrqbzlvb6', 'vfeightwohkppsbxf2', '6qvmprfhnfs', 'chcdrrkstnsmsrvjbqk1eighttwod1', 'xjgsvj9dvnthx', 'shsix6sevenhhqdvgsixszz9', 'xjqzfhsixfhvdpxpgp7twofour', 'vcsdm48tkmkt6snpdtsfbtpbchds', '3nffrsqkv7', '2jbrtfddhskblnxqxzrdbkzfkpkxdtcgxsd14', 'two7773foursevenfiveggcgc', 'eightone2eightkzpmrbjcr7spnhdkx', '7four1seven', 'mbcrsht8hnbkmkxthreethreefive', 'zlckddkg4threeonekslt', 'dtdbkcjlmmlppghbg1fourfgkrsix6nvkrxbnine', '412rxhqkjrqpceight4qdzv', 'eighttwo5', 'ljtlkbsstwoonebbnzkxrlhsixsix57', 'eightbrmhfc6zeight328jmtpnt', '4fourvxmrmrb2two', 'threeone1txqngsx21zrseven', '1kpsggqxvzmrcsevenfivethree', '9lzlzlcdmcnrtwofourseven', 'four4lbvcxmxf29', '6ninezkhhjj', 'bngdjjdxnndzhnpfivetwo17', 'blhsbxzvtncpzfour82one9oneightfzj', 'cqqlvkdsf531rnvzzldbtzssxb7njhfdvc7', 'six5sixsixblmnhrkx76', 'four5zhscnznq3fvdgbmpvtx5', '9zoneghtsgnkn8blxcmf1four6', 'threegtjftthreefive1nine4', '855ndhrqsvsnktwofphv', 'fkfbsrvksixsixssix2', 'five19sjvfzgrb7nhzmzfsbxbrdknvsq6', 'twoqfhc4five', 'sndnrlkfjqgpnn9sevenm', 'bphx1cvcvdghrbbhjdzptwo', 'gxthree46lbltzmv6', 'fourtwo3seven', '48qfgnmnzsevenone4fourninefour', 'xfztwo4pbxxnzsttwo', 'jgmzslhmfkpxkfssxh2rptkvfplhldprdqmhxgdqqdpb', 'jfzpsxzq1', '3vjtbdtwozdgjthqrhbcpbcjvtqbpcstqmqrmd6', 'eightv2three4eightwobgq', '12jmqnmndzvnvjzcrmphnjvhnv', 'onelnfnxj6six', 'three723thxk63', '5nzsix5d', 'seven2zpsfzbfjcmbsevenone7nhv', 'sevenjlx3twoeight', 'kttwone223', '1hnlbcvnkj9four', '6eight3snlrnvfctwo', 'lfndkjtnpd1twonine', 'xqlc6', 'fdtgb9gptnkvh57sevenmtffxlc5', 'three3seven48', '654', '466fzklqfourtwothreeninejhjgnqbnb', 'gx3onefourfourthree6', '7one68oneff', '152nineninerpmkpv26', 'ddf5', 'krqlzrcqfour2', 'six9fiveonechvqncsdgmvjkpgdvjdt8', 'sixhmhvkrzpsfour64', 'threeeight82szcqeight', 'kr4five5qvndccconerjcbnvshmlfseven', '3sixczmeightwomth', 'twoccnbqmnxlj6oneb', 'eightsix317', 'dnhccxeightfive7two', '2hpqccrxffonecrphsxttnxgnmnineqqone1', '796nineggdhfivetwocfdxq', '37bqzxkpht6gshfstzdztchjrqmsdlz', '9kphmthree9', '345oneeight', 'x98eightone38fx', '769two', 'hplrjxbvcbt2', '74ninetfqdtbdspjninefouronepqdhfive', '9two1qxmrgfg66mlvkl', 'srjllhninecttnqj5', '6cxmnhlrkxdtwo7hd3kqpd8', 'nine651xctjzpbdpb23ltn', 'eightktvrj8fivel', '7hcxninesrcbdrmjzbvdrxmnfour', 'sixltkxmhcvxv9pxstctcvgrfsrhdxqsix', 'kscjlfmseventhree2htsixlpbvb', '5bcbhkh8fivetffq', 'bsslrpbkgk4eight1vcb', '63fiverzg253four', '6seven5eight', 'ninesixtwo8', 'twod52seven', '52fs5', 'fournine5qsc5vrvbzzkxqlthree', '6sixfive', 'tnbqgfmjgglnhqd4gndbb9four', 'seven37gmkmdqmkggrvkdzldgsix2hk', '1one75five4', 'onellgpqghhmsnddnhgthk2four', 'one5bqninelpckjbtg', 'lqbssxxghpczz1sevenrrghrncbjfourhdcsns5', 't3foursevennine5nine9', '9fivefourndphjnsvxzqgfqg6', 'fivekqpfhbtthreeqvcmblsxhpthreesixnine4nine', '19eightghgzbkv3xlrqncmcg', 'five6fivepmjlhgdmpjvnjjpzzqctgrr', 'eightstdlttjzkfive3one', 'nineldnhvqqdrt2sevenqxgltrhgvtdnfcxcsknsgkzjzbvc', '6tjkxlskvg414sevenjsevenfive', '5ncdmtdhbs', 'nine7onekclmqxkfdtqone3', '8zqcsnkfnsnlhfvfpxm', 'six6qltwo56', 'pdpcvgslddtwofour6jqjfjzvd', 'vcsvxcfdgqpp3', 'six9three5nineninefive37', 'ztffive8', 'mggphlsjczvsevenlb1sixssbdsltthreetwo', 'ninedpjljc177onetwo', 'two7fourvstgmr3rtlztqddmnghm', '2dgtpz521', '1ninesmsqtgzone', 'ppsgnsnineninegjvpvcnp5', 'ninethree7', '312cspj', '7threephmdnmnzlfpgchqfj37fqz', '5sevenhqxkqfd4cqmqhsfbhtt', 'ntzgqnj5', '167', 'xbpdhvfourfive7', '73kffl1one2', 'fjshmr65sixrkqbtpxqnpqgjthplnlv7dfrktxvng', 'eightzjzvhp12twoeight', 'mgczvgctfb8tmsbtc8qtwo5', 'jjpbkl67fivetmbc', 'llprxv4', 'two5tvc', 'nine3five', '7nine2foureight338', '6vsflc', 'jfgxsixzmtzjxxfc2pg7one', 'dhkjgnlxd6tseven3', 'zxcsrtdsjnine84sixjzcbsfneight', 'hncmq88', 'twofoursix1ninesvlzhpgc', 'pdktnvrqqgmpllxnmp5four9', '4xckfzp', 'xpckhm45', 'nffone49', '8qqthrdd71two', 'xksghrh7oneone245cvcnrfgtwoneq', 'fivesmcb7', 'mdqdktxplsqbnhztwothreetwo5czjzjsztclb4', '7two39xsmsvhqfkxgxveight', '33twotwonine', '6j', '4dfxcvdpq13mlcdsnine', 'four7kcdglrh5eightzxvrrrseven', 'phzqhdffour55sbd5', '5vcjmvzd1four4', 'rgp1x', 'four9three2twoeightvzvlpgrnine', '78pkrqbdtqzhmszzf', 'sndtjtn93fivesevenvqfffjpmz54', 'fvzoneightfour85threehmqdhbskvg4', 'threefive2seven8eight9sevenfouroneightl', '7three68ndqdk84pm', 'gponeone7zdrzgtvbv8seven', 'threeseven4ndvnnkpqssfsm2rcnjbgkbtg9xp', '7threesixseven', '8two3threefivethree', 'twongkzk85rteightfive', '47ninemgtknhpqqqtk9foureight', 'mk2fourfive7mcqtf', 'cqqxsqkx52onetwotoneeight', '3dvbblknjfnine5seven', '85dntjeightwom', '9btgrgqdkb7twonine4two5sxpqr', '1xlnnfxdsix', '1jvbhsftwocdl1hklfqlpvr6', 'twop2ttjfrtrdcs', '385jtxlfdngz7rgjfour', '4ft3three65', '74dnxqvzqp85146', 'nhvltrljrpfivesixthree1', 'fourcbzbfr5threeeightwom', 'nbnxzkgczj5', 'gvcgrxfr2rnbbnsqmksrjckcg8', 'four1cgrrnvt59', 'sevenglsixxgnjcfstsevenoneeighteight9', 'cmjbp5sixsdqbspxtbvfgxjpvb7bfsscksv', '9twodzbfqscbtthzfdf3', 'ppcs59', '9sevenseven9vczdbphxxzmvskgqhzr', '321sixhczhdblvbsrtkfm8kmtjmqq', 'five71', 'gkfoneight5two', 'tr9sixgntvrkjctnvhpbp9clnseven8', '3eightzzktskninefoursixonevfpnpqmdlhbp', '8five7k', '7threehxcgmh94fivejltrg', '5qjtxcvbtsevendpgfrcldmkkvztbhldfgtzb', '49four4', 'gxhmbgjz9qfmmnb', '2ppcfjeight2', 'bdjrltwoeight74kcrmjdbqkkonenine', 'five6szxgtqlninefive1lbpcvg26', '3bpctmgczvvzzs7gqgg4four8', 'ssd584htkgjrdfive', '9vxbsrhmcsz96', 'threethree2foursix', 'onefourqqxvjhbzcksixnine97eight', 'fivefour3tlcfccflgkxvpksqqkc5', 'sixfiveeighttwosix99dbgnf', 'ninekzfzddjxn49seven', 'four74znfnkzlnpz7', '7sevennine41fivevbqqqlpxcg', 'fivetgr5four', '2cmcn36threeflcmzkj', 'tvp23', 'jz1trjfiveeightvxslxtwonine4', 'dfcvmtpstrsdzs3', 'qpzlmnjmzzvcvqthreeeightthree5four', 'twovsdqrp4fdtgtbdhtwo', 'threemkclqbksnj9', 'eight5665five8sevenoneightl', '6onenzczone9p', '8three2twondcg9four', 'twoxsix6rxshtslbfh', '4vpstdq2', 'nine53', '6threesevennine', 'jdfkb28tqnjnbpfksevenp', '29fournxtfnhqss68sevenzrmqdzqlk', '4znzlvvfs6', 'gvtwone7kqsqrvknnzsfgxzfzhx', '21xpfhfjzrvtgtrkkmh9five2eight2', '9rdzsix', 'gnpcgrsevenoneseven9five', '5one5seventwo7qxpgzbdtgkvtpnvclzgqqbf', 'fkbfznkfcc9four3five', 'xjbngj25', '8vlfour8nzftbhgxvlgskv', 'eighteightvzpxmtgnlthree2ninergj', '43eight', '37twoeighteight2seventwo', '11threerfrcqrhddqczvdcfive', 'ninefive7', '93fphqmdgrvjqjbpx1ctktzb', '3ninemfvthllgmbsix', 'two3bbftseven76twonrdl', '435', '93threemtfpf485sixfzvgg', 'three5seven3eighttwothzvxhr3nine', 'qztwone167ninermd1xhpft9', '6eight1mstqgdvxznsevengdtrvtp2four', 'nbfldvhzcttkninerhdrxpjffh8five6', '6sixjzlj3jpjbj16one', 'onesevenfive6seven', '6ninellfhpqgrldninesixthree', 'three53jcrc4', '8five9eightdgvhlktbvv', '2vllfmpnrjjjnxmmsix4kseven', 'mmbdhbfqq9nine2threebshzhdknj9', 'hznv78sqvxnzjppqfivesevenzskllffh', 'six5vndfv9kzc36', '9fiveonefive38two3', 'fgqzjqt4qkpgstlbk', '72ninefiveseven', 'zzvhpbbllqpdpbsff8seven', '4jvpzjcrm8', '33one9dcppdmpcjdvssffsssb', 'sevensp5fjdlmpzgtwolddrsixnlgjthree', '4twozzkckvxcfzrzctsrtwoljznhpm', 'fourseven8lnnvbfb8lsptnseven', '1znsgrrnjv2eightphktgn52four', 'gnttqnlvmfhrlcnineeighttwofivesixpfgfjgvckh9', '3vgkzseightthreemntsnthhpszrpkh1', 'fiveddksthreeeightdbxvbfseven9six', 'trtpjjrqfc6cbsccnghpthree4rxclfrkeight8', 'one4sevendxdrone', 'four5mttxghdqone9nvdbdnthreetwo', 'sdtjdffive3sixthreeznrv', '2c3seventhreethreetwo7', 'hldmdhr4', '6hcrdxpnpjblngks9', 'vscjsh3sixthreefour', 'threexsdhnkmdvdjthree51pone', '3onenvx53nrhnrbqtwonine', 'twon67eightppqntrtct', '1onemnpcdl', 'lrrzbxfrt56525three3', 'fivethreevsnqxzxjdkp4nhnzsfknx6onefive', 'threectkjzcm8sixvbzmqq28seven', 'mjfc4gddfhszzk6two', '3twoeightfbpcsrhlm9vkxeight', 'pplone5threevdvfsthree', '3sixzblcdxgrr', '3mrqceight8thtltkg6', '7six3cjznvgv1three', 'tnpr1sixeightthree9eight', 'ninenjbgmznt7pkfdnrffrlhkseven', 'ninejnsix63779', 'cljvmznmjkdjseightjrtlrmseven4nine9', 'sevenfiveeightncjmffmrxcjkp5eight', '9ninefive7six', '8sevendcrffrhhjbzzmh7', 'mrc168eightmvsnrqpkqd61six', '1eightcvcqqtdjg29', 'znvlfrt874nine5', '7hsdnpjx4', '21kvhtmvplcb2onethree', '7nkpdjsxvkdqzjsvxmvfiveq8', 'sixeighthgtxgslkhxvnlvll2nineninebnkffbbffsntrcvfdzmq', 'five5nine', 'hcsoneightznbfz6bbslrjphkg8', 'four1lfm38', 'twoninelninexptcbs3threetwoeight', '9392three4eightk9', '2xnhmqxcxxs5', 'zvkfmqg2fb3rm', '3cpcvjfcngktwo', 'gvnvbtvhvsmb77twoeight43', 'three19nlcq', 'jshvrzzseven8c2snfmnineqnbdlbr', 'bvvttclxpqttwofrkpthree6seven', 'ninevjnine7', 'fiveqhczdqzl4seven', '84tvhrrtt5', 'fourthreecmrvfonevsrsklqrrzpdp5', 'knnmdlrk5threedzhdxjtseven3djbnqtfjg', 'qbjkkslhb2', 'two25foursix1four5', '8pbkqrmtzvzbptvj7nkdsvcpg', 'k1sevenzdzbnsjscpnine2zcfhjqdtvmjnpnsix', '7rjsfmz39ctpkgnm', '4fivekjcmlxqeightfive8ninelszhv', 'jsbjcvfcvlxs16twollkphts3', '8klnmlsonesix7', 'lzmqtzp5six', 'one7three', '3szthreesjeight14three', 'cnq3seven97eightcvvbkdzbfive2', 'jfive72four7', 'nineqgpbdzjqfd5nvcgcm69', 'jfjtrrhcgzgqgtdmdscthree8threeeightthreekvztcfnnxp', 'xxfjjhvrdptwooneninebjlsgssmpsvvtwo1two', 'fourz9ccjjxzmqmhm61', 'sevenfzffourfivehrpjtrvglprdg4cxtcjgc', '2cp5zbl', 'czhndkczznnftdh7nine', 'lczpbbjnh1fourxbskj', '5sevenc3one', '1eightnqbmkhjzzxqsxn576seven', 'kcxhmcnnonetwondzthz65three', 'foureightfiveczzdxgdvfc6sevensrnbvhftl', 'six3fourfourfourfive', 'jtmrqjoneseventhreedmfpv1oneeight2', '6bslvklqfour9twofour', 'threefive3', 'hqjhndlzlmdtkkhlblvxs26vsnpkfjgn51three', 'l286threerhscjbqts', '859gmvdrqbbr2', '748onesevenone', '9fivetwovlmdgggvss', '2mmrxstxqbtwotwoeight7', '1eightsrhkzone', 'svjzgxrvcfjxp5foureightfivejlbtlmnine', '26nine7pph6h', 'lprdrpvs23four8twoseven', 'fivendxhlxvrmtlkmjf5nine3', 'jpcnzt6fiveonetzdbmxzzrnxblb7tmvmbnine', 'seventhree62', '8one5gxljlhzgb9fourfjcmbsix', 'five7889onerkdxrlgrbqpb', 'tlkkzfqpeight1onelvbbztlchhtrfjbdm', 'jeightwo76one', 'kdtxdv92321seven9jhczcl', '12cmjczrskprx9', 'mmffive33eightgzczrhxpngnsixzztlrx', 'pcxlcnmqr5sevenjqt5mgbgjjcpeightzdrzgnfrbjbcgc', '633bdkqk', 'mfxfslmms8sixfour565', '24fivesevenmkprgbxlvzsnmn', 'cqf8one', '7three8six', '9sevenpgcfrnvzzmll75one46', '1eightcbprgf', 'sevenfive1sjzlnlvcksnqzlhc', 'two3fivefiveonesevenoneckfcrld5', 'threekxzfcxzjpfz92mltnrnntwobzhzgcg', '5fivexjsqskhdx29three267', 'nine238ktdrmpkhfourbl', '9f', 'vxstggkg747', 'sevenjkpsmkzjrtrhcd99', 'gfour96gxpchmkz', '5six42lvxfbc', 'threetwothreecck34three', '2five7', 'fivecgxqrcbdthree9hxbkkzsfpm7', 'eightgjftmmsix3', 'eighttjfpxbplxm35rrbppjfjsts', '9one3db', '4nz74six68dpfkthree', 'four4five', '3fourcngqmpkdtmnvfbsevenfourl', 'slvb13', '6sevenone', 'eightg4qvrdkjhsbn', 'three1eightthreesixfiveninesqczjcm', 'jtnddjsbcseventhreenine2ninedvblpcl', 'ppffnzsbmnzctdjqttrxzeightz1three', '7r', 'vhksnh929sixtwobfdtmrfxbnninegtxkrnl', 'zfoneight1', '9six123vcjjz', '99vknnqszvvm7', 'threefour1fsxgqvcs2', 'fourmssjszkkz1four6two8fhfgbkkkxfive', '4three37bx8lgkvgvjjpxzcmfvn', 'twotlxxhm6four499n', '7xckrffbmzf75sevenfive3four', '2ninetljfcpnrzkh743oneightlgc', '5eightxninethreeeight4', '56threefournine', 'thfc37fksgkkknfour2nine', '4jtbckvmqc', '1534', 'threexcc8fourmtvkqdchjx', '3sthrzbjbxpcsdhjmfjztbgknrpb', '1fivextcmx9six', 'one639lkjfive', 'twovlxkxbqrjs6one1mctzqzx', 'nfour1ckrgnz', 'four1jsmdn', '615', 'two6fourgqqz', 'fqcmkbhjfntwofivenineqhqssonessvmc72', '6seveneight5rsftxhhnknjj', 'threesevenfiveeightntjgpkxbmkqxhstdq6gjbzxqjsmm4', 'qxnslq294gddrlkvdxqdqkcghfbgseven1', 'ntdvbndqqvmhtrzvvcdlqz1', 'lxkbqjcseven8eightsevenddzqsevenjst', '11vlvklqqgsxhxngseven7kljlpjfive3', '17zxn', 'threeeighteight9', 'onemzdc7six', '13dttxqnfdv3jhctwo', '7jxhhlxfsxzkqztwo1sevenc', 'thmbtqqmtfzfnftqbsxm6eightmhffive7', 'nineonebd5dfzqfpsxfour2', '4onevszfmdxmcrzmpckssixthreethreedt', '5keight7', 'two9hjbcgdmone', 'nine4qsf', 'stwoneninefivexszrjm82seven', '92krcsixsevenznqcbdvpntbjzcbm4two', 'fourfourhqeight9rbrtljfgqsixfiveflslbbxxheightwobhv', 'three817seven4tstspnczkeight', '7nfd9', 'threezngvkmj7mvksmsvjxjfiveeight', '9xninepctctsevensevenqqqddldd3', 'kdbxsix798fvsrhvxmtwolmxpxcm8', 'onefournine7', 'nchnine6gtszxkhtsvzjcnmlqninevkkrvv', '8shtwopeightgbzmbbdnrtpmrl', '85sixhbfour4rldcdnqneight', 'xbjhhjbk4148bmsvjz819', '7qqvmxlqzqlmrr', 'one914fourfive', 'eight72threenfmbfnxdhkmgjkrmsc', 'eight57sixvmfjprpm', '8fpfkxffqzp8', '95hbbl29', 'pzvhmkdgqp1dhsrlv78bmvhdqfcgcpdtgtpmmlnmkfive', '16onesixb68dzz', 'sevenninenvmbjknplxseven57sfghptmq75', 'xxztwonesixone4gczrnpzrsfqqlzseven17', 'xnfive9fourlfive162', 'fivercg3qkgdxpdxcpone', 'sixdqkhhht46ghvd814', 'zvpdmfvgxl45nine', '7four4bmjssxznnmgtlqhptcbfive', 'four49nlkpfxjcnine81', 'zdgtfqszsctjtvr7qqhvsninesevenxtcmdhfzxvfrtjqhzmm6', '5four2gmgmvzkvgknfpxfive', '2two1', '47eight96keightthree', '7cb', 'eightdzzjjknbxv5', 'dsmgfoursevengp4', '5fivethreeeightsixxqnrsfxxmjckfzhddhszqvdjr', '3jpsrxlvninefour7gtjvk', 'bfdtkgfhlnkhdrpfg3', 'qhzdzsix6one9one', 'four75qsbtrb9mhhhhnbl', 'seighthgddd275nineeighth', 'ninemgsixrkmhdpjtzgfive91', '8ninetwopeightsz9', 'three427c5eight', '3sixoneninefour6qksfflsvhk21', '8onex76vmhxm', 'sevenkrvrdfived4six6', 'rzqrxmq21', '75gszfc8vrj8', 'hdgclvmgg33two', '1dv8rvdxbfjclr', 'grrhjthree9fiverhqt', '6nvtzl6shxrlbmrqckseven4four', 'foureight4sevenkssixhdvvbszkceightsix', 'foursctcndrchdbfourtwozpdkjc3vqv', '874onethreesixtblzsnrrdvqmpgpfb', '1pgmgczsgngx', '475', '2jkfphlzqhz', '4576', 'onegnbrseightptrgdfkbqdcvtwo1qbxj', '4threeznd', '8two21', '7nine8', '3seven2dbrzxbfvg4', '4937eightctmzkxkkzr', '5mtccqv2threeonetpggmmzbhlvkt', 'qpjvmgqxcj2sixeight', 'ttmztwozrfqhfhgkp6pltknxmcfqngh', 'onegnztn9six', '6ngsnzbfvvtone27foursix2bqhbkgkr', 'onejnplq3', 'hmltwofivefourvjkkdjjksbdksqtnr2trxnkltgp', 'one9four5mvgjgjneight', '358hxfour2', 'bsmgfvnt7jlsrdvbq', 'sixoneone5three8nvp7zthbv', 'jmfpnrmrninesevengsqggg7', 'mkvgjdjhvsevenone8eightoneightdhq', 'threeccljpjhthreetwo6923znj', '1pjkbks6one35ffj', 'ctpdddkxtstvzcgbfdfspbloneonethreekvsltblvhx4', 'nine6zmzkjlpcsixsqt7gkbdhjqnthree', 'twofive1sevenkrnfbfjpdj1ftz9', 'mhfdxzqlgjfvfxvm7', '1rhznqnpgkqbtprvbb', 'rhxskjqrt2onemppcsktz6', 'jhxsrxzgggfivetwofourseven9', 'eightnjzddrjppq51twonebtl', '2onesixonehlfmxkjpfxpkfkhbkjhcvjctfive8', 'zv9three6djkfn6', 'smx8', 'fdrxeightj7three6dflczzmgdr', 'zvzrb5twosixtwo', '993oneseven5seven', '918ninetwotwoninefivesix', '1ljpljmninefivenine7eightwolsn', '5bphjdgktwoseven4', 'seven8six', 'mjstvsjrltx3sevenkddd', 'kljfvvmxkrkcctjpnmrveight7six', 'nineeight14dkkcsvg41seven', 'dvxbzxxksonefjgfppsd1eight', 'sixthreeqfbone8five929', 'sgktnmjjseven5', '442', 'jbptworxzzmkhmszn1ninefour9', 'lcfpbvkkgnggtkh8threeonefourtsvrrkcnvdpm', '81eighthgr', 'jhklkvm6vqpvjdsh', 'lcgjdkm5578knninezsdcp7', 'sixnineeight4', 'qdlpnqm7mbtgbvqznteight6fzninecrrgqsq', 'tdmjfourfour8fiveseveneight', '1gdsthree', 'threenine42onezctqjj8one', 'ftfourone2onephv5', 'nbtwonexjpnqtlck5pxmfzbvp55eightfourbxzxrrstp', 'sixnine2mpcldclfvklh5kmggqbtbk', '1three4chsjrknhdtwoxqjcgssnq', 'dcpjkkrthreeqpncsbfpmhtmtfvzjzmps8cltmhqzl4', '2ninelrthreethreerzxqhdpcmfthreesix', '5nfsrrh1sevenlcnrblxjhjsmdndpthreevjphjqlznd', '86kdqz8fhsxfkxvdseightmsrtrrc3', '1pmpzsjdqnm7eightfrzxtbxkdkdbzbxqlhg', 'crpxxtwo7cck', '19hjngzt', '58eight3twotwo1pqr', 'onegmc3three7', 'eightzbchgxsdpqfivejf3eightwoflt', 'nnineninetkffffblkoneseven66', 'cgeightwodthree9pqkmkbbpvnthreeeight', 'svjhcngvlksz4dnvfg', 'twosixtfive7', 'cfone9threemhvbpqrbbklfvreight6', 'eighttmltbk3hgtrtb', 'two6t21nineslqmt6five', 'dfoneightninegrxcgjmjdqlpdjskllzpltq2jgsix4', '69threefourkqfzdpvtbxqpktwo6', 'seveneight64four7', '72six4ntdhcphx48twonedbn', 'tbbcskrmmj4', 'xq9three28', 'scq9qbtzp', 'four4ccftsmnxpj95one4threeone', 'gvs286jvskvvzlhc6', 'nspgkhf119fdcqjtzmlqqz', 'eight1zqp', '697ninenine4', '5jnnsgrhnmjmttbkql8', 'seveneight5onesix9btbclcrrpzthree', '11eight5383', '9321ddslmdlb5onefgdmz', '39twozhclzjfjgseven9', 'eight6tqvrfmkxmhldbvv', 'twogrldddksg1seven8', 'seven22dgjzqdlmmfvtxnnglqxbgfhgvglrg1', 'oner676pkkmninegff', '3lvkxfive15qthpfivethree', 'fiveseventhree2llxsgzeight', 'four3jftmvmqzql8nscjvph1seventhree5', '4chjvrninefour', '4ninenine46', 'sevennine7cgdnx', '7mfqtmpbnine', '38threefivebjjpgj', 'kn4lpfd1four', 'nine89krvcbcvqn', '2four62', '8onehrrhxpmlpnfqtlxmfzps', 'vzoneight2gkpfczjmht5zlfxmnkjfq', 'mpdone5', 'nv3ninetwo', 'mteightwot4sixfivefive2threesix9', 'httwone2threefiveone3', 'one9kphlcksfournrkxktxvz9bkfnq', 'foursixone8', '66crcjonetwo', 'bcrsltzkd64eightcjzmctwoseven', 'rplxlbpddneightvqdclxqqlh3hlkhkgrfvlnine', 'sixdjdhcvvnnccpsevenkhvqp1', 'qjsevennineeight7three7four', 'three5one2pzgbnmj1', '2kbbhjmseven464', 'eightseventhree3onevkmhmjvcd', '2rxdcjpzkph', 'two9sevenpbhcbklcpnsixthree', 'seven9sevensix4zklllpckrxrcpctlgt', '5fivefiven6', '2fjffivesixgeightthree', 'seven4pp5tpmcfourone', 'kftkjnhnms5hbngpqhxcone', '1dnrrsevenseven', 'fhjcmxvpbsr99', 'seven41threeckvp', '15twothree', '529two', 'xhtmrmdzkgsevenfkkzmqpgoneqqzdhpbdeight9', 'ttnzmptlskm5pzvdnc15sqqcmmvx4', '7ndb', '55bxxpvjhkqdsixfour', '14twochvtxrdcslbsrggcxvjpg', '2seventhree', '9cgfnrxprbz2ninejrhbgsczrhlxn6', 'tfljdjcpltgzhmxv9', '71ctrzxbkhhqpgc', 'two1threeeightrskmzsmzhcdbxp2pztmgcg', '7eight6934', 'five7lgspjnhrsmvmeightwolj', 'vtqcrtjmtkmvvnmmnineone87kclsrqrf', '5fivetslmronefdsdxr', 'seven88', 'gsvbn9fourtwo4zthfive', 'nqkgjlqgqbng5rxzbkhzmzcgkrsblfnqstxlcg', '9znzctbdftwonineone', 'mrngnmkdjv48sevenvprcvllqqone', 'ninecxctvm5four621blbfctsg2', 'seven6threehzhbmbthree2', '3fivethree', 'sfsncqnp34twoxdmninenqqhdfour', 'four7gbcslngdx385lhkslcjhq5qjmvchc', 'five4hnnkk31four', '7three8fivethree7onethree', 'sjqpktfsn3tdjflb2', '1ninegnone', 'rvgcmzhffrntqqnhjxtxqrmvbsrteight34', '7slcmpmvhfhpzgllr5ktnzm7onevznhnnbrcc', '269four1bzjrmheight3fgcr', '9seventhreefourzlqgjnrmq7xcmntjncntsixthlgq', 'seveneight19fbphndppb8twonebbj', 'eightxblvnvrtpsmcngtbtltwo6heightprccv', 'sixeightsix32', '49six7twonine2five', '25five5', '42onetwonbl', 'kbhrtpgnp6', 'nsfktqkbzdcmgf28', 'btwoeight982nine', 'cpcrbqzmkbtcjmn58six', 'one3hlgmgphkcnp', '74zpbzmxc', 'eightsevenseven36gdcnmrxn6vhvkmc5', '1nineninehkrsix', 'threeqloneseven1', 'eighthhq9cbptsljhzsevenhzpxm', '8oneonebdthldf6eightthree', '7onefxlhzxcmhc4five8eightjlcms', '48skgslmflkhnpqtsix', 'rgrdzx4sevenfive', 'onefxfxhslc9hjxkdqjs6threenine', 'fivesevenonethree2sjnvt5', '92fivel83', 'three2fivenlbtvsmvsix', 'threefive8nine', 'mjnchtwosdbh7292three', 'hdqffzseven3sevencqv', '73xcqzdt7jvkkskpgnine5', '2threeninessgntvctkns2kqmcqdvjt', 'dktgqszxcptlpxpzlsix8onetwoqlxk', 'pbvvfjlzbseven2', 'qtlfxzplrrcjfr6nine', '7gsthreeplhxbbmrhtnine53rxpjghgjq', '2bmmjrzzjnz9dfplppnjmktzcsixrpqxcptskjkfqxgx', 'fivedrtnxnjqxnt2qtbvlj', 'j88ninelnjlsnzsqk31rg', 'hcfxflqvkvdfmthkjdpfzzlzzh4kdmmhvspzddfivethree', '5qsl', '9eight3sixxvjktfzbpglmzfour37', '4six2', 'zqrlljptwoone5knbhf72six6', '5k65blpldztzjh7sghcsdnpm8', 'six48', 'skdpdfqtglzvlpqxp3twonelcr', 'twoklhndseven6jdhcsccjgp68twonelb', '76four7nineeight', 'gntwoc59fivesevenninefour', '1nine64seven8', 'seven4926four', '31gsjtkjdvjdqnrsgnpbnxsdrzmtskfdqhd', 'seven82ninetfnxhlxeightbt9', 'xttqntsdmvfour8two', 'zbjbeightfhbhcfkbhrthqhgsixthree11five', '5sixpfnpmcpfppxvsfprxfbfcsevenfour', '25fourthreexgvhzdkzfh', '4xdpdpkldnbone', '98sevendhjzlddn5ninetwobrfmbshn', '7783twonineeight', '1fourfour', '4fourztnthreeone8mqmdfour', 'fbfvqgvqfone5nctdcdpteighttwo', 'dhfbhone4fourlgzftg']\n"
     ]
    }
   ],
   "source": [
    "print(day1)"
   ]
  },
  {
   "cell_type": "code",
   "execution_count": 23,
   "id": "a27c9260",
   "metadata": {},
   "outputs": [],
   "source": [
    "numbers = []"
   ]
  },
  {
   "cell_type": "code",
   "execution_count": 24,
   "id": "53108e7b",
   "metadata": {},
   "outputs": [],
   "source": [
    "for i in day1:\n",
    "    inner_list = []\n",
    "    for j in i:\n",
    "        if j.isdigit():\n",
    "            inner_list.append(int(j))\n",
    "    numbers.append(inner_list)  "
   ]
  },
  {
   "cell_type": "code",
   "execution_count": 41,
   "id": "af5aab8d",
   "metadata": {
    "scrolled": false
   },
   "outputs": [],
   "source": [
    "result_list = []\n",
    "\n",
    "for i in numbers:\n",
    "    element = ''.join(str(digit) for digit in i)\n",
    "    element = str(element[0]) + (element[-1])\n",
    "    element = int(element)\n",
    "    result_list.append(element)"
   ]
  },
  {
   "cell_type": "code",
   "execution_count": 45,
   "id": "1dda9906",
   "metadata": {},
   "outputs": [
    {
     "data": {
      "text/plain": [
       "[21, 38, 51, 15, 33]"
      ]
     },
     "execution_count": 45,
     "metadata": {},
     "output_type": "execute_result"
    }
   ],
   "source": [
    "result_list[:5]"
   ]
  },
  {
   "cell_type": "code",
   "execution_count": 47,
   "id": "b9de8a1b",
   "metadata": {},
   "outputs": [
    {
     "name": "stdout",
     "output_type": "stream",
     "text": [
      "The answer is 54338\n"
     ]
    }
   ],
   "source": [
    "print(f'The answer is {sum(result_list)}')"
   ]
  },
  {
   "cell_type": "code",
   "execution_count": 51,
   "id": "cb81ff6e",
   "metadata": {},
   "outputs": [],
   "source": [
    "# definging a function\n",
    "def calibration1(text):\n",
    "    numbers = []\n",
    "    \n",
    "    for i in text:\n",
    "        inner_list = []\n",
    "        for j in i:\n",
    "            if j.isdigit():\n",
    "                inner_list.append(int(j))\n",
    "        numbers.append(inner_list)  \n",
    "    \n",
    "    result_list = []\n",
    "\n",
    "    for i in numbers:\n",
    "        element = ''.join(str(digit) for digit in i)\n",
    "        element = str(element[0]) + (element[-1])\n",
    "        element = int(element)\n",
    "        result_list.append(element)\n",
    "    \n",
    "    return print(f'The answer is {sum(result_list)}')\n",
    "    "
   ]
  },
  {
   "cell_type": "code",
   "execution_count": 53,
   "id": "7dfaca61",
   "metadata": {},
   "outputs": [
    {
     "name": "stdout",
     "output_type": "stream",
     "text": [
      "The answer is 54338\n"
     ]
    }
   ],
   "source": [
    "calibration1(day1)"
   ]
  },
  {
   "cell_type": "markdown",
   "id": "7ae1b5aa",
   "metadata": {},
   "source": [
    "## --- Part Two ---\n",
    "Your calculation isn't quite right. It looks like some of the digits are actually spelled out with letters: one, two, three, four, five, six, seven, eight, and nine also count as valid \"digits\".\n",
    "\n",
    "Equipped with this new information, you now need to find the real first and last digit on each line. For example:\n",
    "\n",
    "two1nine\n",
    "eightwothree\n",
    "abcone2threexyz\n",
    "xtwone3four\n",
    "4nineeightseven2\n",
    "zoneight234\n",
    "7pqrstsixteen\n",
    "In this example, the calibration values are 29, 83, 13, 24, 42, 14, and 76. Adding these together produces 281.\n",
    "\n",
    "What is the sum of all of the calibration values?"
   ]
  },
  {
   "cell_type": "code",
   "execution_count": 48,
   "id": "33526989",
   "metadata": {},
   "outputs": [
    {
     "name": "stdout",
     "output_type": "stream",
     "text": [
      "['2911threeninesdvxvheightwobm', '3three16xsxhpnqmzmnine8one', 'seven5khtwo891hlb', 'sixthreeqpzjpn195', 'jrnf3', 'qpzcfbfsrxthreenine3ksbghzzffsevenfive9', '2fxvxzzgdnfkzzh4eightnine7five', '4fourtwobjscjgtbvninesix', 'onetwofivelvnbcbn5', '6vjdtd1j1eightone', 'sshnxbjrt1', '5ljsxqjdxr91', '71six14rkdhdszbfz', 'khlm3', 'jnsjhqqtj6fourslpqntdzxpfive', '6eightp', 'qtqrcs6gdqmtznninexvpnrn', 'sevenrcdbnzfltt4seven3nzsixthreeszr', 'onefour96qtffc', 'klpksqsggbrffive1tdsfptnvs72', 'lsx3qrmznjrfnvvzveight5one', 'dqlrxck2fourkp6two464', '5niner3kcdsxqfoureightfive', 'lqtwo7sevensvghmsdjzbbdrhqjg4', 'xxtwo25', 'six6zxs8four8two', 'four7five3mcmhxxtm6', 'oneqdkmbvvnmf64three57', '9fourjgmhcnpjfhtm', '3lzjfvthreesevenzlbgpcslvrpglqseven', '6eight1', 'xxcgtrqzcjjtwosix7ninejzzsg3', '1cqxsix', '5tjmqldjsixsevenfour4fxxgsbjbxrffvzbxd', 'nine2mpcplqktt', 'rldf79eightonedfjvkvjjx', '3fiveeightoneightg', '95six4three', 'kfn487oneone1mckljv3', '2four6lcbvninezscnjjztwo3two', '469sevensixthree', 'vqvjll1seven78four', '1fmstxpg9', 'onefxtvjhxmfbgmf1three', 'threefivesix8onebxpdfkxddkdxnt', 'ninevkcxflcfhqx664', '328threexc4onetwo7', 'nine51', 'threefoureightv2', 'six58jsq69', '63gzvtseven3eightmnbrmtktseventhree', '3onepszzgskhjl6oneeight', 'llrrxkmrvz2three53', 'sevensevenvtqdnvf7qhjt1', '53eightkfrrtvsq', 'ninefxltvtgmrlhhdkbtbsevendrpgrcrq3two', 'm5hxxkgoneqfgmhndbdslvrjrnk5five', 'fourf9one3bzljjkdl', '7drfddqr4gzthreefour', 'seven61ninethreeln', '3spmthreeltlkfmcdvlfxvbnlmgsnsqskh3five', 'k93nine', 'jpbdrbvtpgzlfnqzfourfive79tmnhdm6two', 'dfqg4ghxvnrzstd4four52hzqkdpkdnb', '85dsixsevenmpcclxdjvsvppkpflhxqvgsjnbsvlcgv', 'threecvfdcnxfoursix8xjzcdtbnine', 'rgcxrc9nineeightwoxcb', 'three72', 'tpfrhlnkdptwo9vgqvdgfqdg9ninemrzeight', '8twonqffivelnlmpgmtwonine', 'snqgdxsczh5nineeightthreezqxmptlss9seven', 'zvsmmlgt8mzlhvbfftqnn6sevenfive', 'vfvdxfx1fourseven3194', '8j71psdplqssbhvxhbxzfivefive', 'dhbtmxvfjjkdkdvr6', 'mnkhzskxoneoneeightseventhreeseven3', 'sevenzzrt3vfcsxmqgh4', 'nbkxmzzcxtpqzvtninevfceight3tjqzsbq', 'j2', 'four53lz', 'jkrxvxl7pfq', 'bkfvvnrqsqfrmbzfournine9', 'eightonekgcgdpvqksthf9', 'jqseightfbdqxzllfrnnth4', '2gfhfpvqzs6vhcvjlrcsevenone', '78tworxggpzr', 'kst8eightsvvfzblthreethree', '63three9clsnvmkd', '2nfrb95hsrcqcnrvlqtnt', '71sevendmtwotdvz', 'kzkjqsseven6gqdkt', 'sevenseventjsvjsix6fnggzkvnine', '262', '5371twonine2fivetwonepb', '7g', 'eighteight9', '5xfjm', 'txhninezhplccmvkj2', 'dzxgmrjzthreedxtqthreecrkqgqhthree8', '9vngn', '5mngdkppsix9mtxzxjlmfz9one', '6seven5threeseven8seven', '9dxpznmpjv3eightsix', '6foursevenx', 'twoseven1', 'five1eightfqgbmtzone', 'fgl424seven', '7177fvc8rkdptrfour', '6sixbbhp89', 'four8twovpkrtnshhone5zfnpvfdl', '4threebmrpbhrnfpn', 'three2vrxztxn4xt1one', 'threetwo71', 'fivetwo6sixzfzxbgqeighttqfour', 'hbbgfhrqvxpqfourthree41', 'oneeight3xqlvnb56dtwo', '666two8', '24kgvqpqtngmlrtfmqfqprvrxzqsxjffour5rvffnntblhnr', 'dhmhrdntwo6', 'grkqnbfeightsevenjpvqmhmbxljrlthsixthree5czqlcvm', 'eightnjbjnpl6three', 'dxstwonesevenbqtqpjs5five', 'eightgrbmmnine7', '1one9', 'bqhbdkf3nine', 'sixjbckxghxr5xh', 'fivespsvx35five', '5foursixninedl6', 'xcbgsjhsix3threelbntcllhdjvqgone', 'seventwo1', 'rdfqxlh8sixcqknsix1onethree', '9b7sdpqsg5gn', 'threetwofourfive6fivesfive', 'k7', 'mzhthreerlrmfhzzlgzclmngn5sevenlxqnbq7', '1seven9621', 'fourvgrmxqkfqtbfivelvm312nsdjjhqcqs', 'fvnine8', 'fourpcvmdzbzsix7bqdffvsgvd', '51threeonemlccggqsxqthree', '14nine5rrzfseven3nine', 'gcq3nkkgdjlcdmjvrpthree7', 'sevenh4grcmgl', 'shjjpzcrljpmfsevennine4', 'five1sevendpjthd1', 'dncxsx3drbllpfxp75chrvhvbblsnrxshssjxvztljmqgb', 'bkrhmrbqtzznhzdt5ccnlxvnlvsdnsk', '3drxdrxsclrpt', '7eightsix', 'fourhdbsgsj79six', '5fiveeightninesixeightm44', 'four2five4rjnth3sone', 'threesixseven3', 'onenine45three', 'nine2qcrgnphbmnkronesix', 'dsmbgbhgrvone768bvlznvfivesixnine', 'four2three9', '66onesix', 'fhtqmgrz22lhqrhngrjd7', '8fiveonetwovd5onembnqk', 'spzzrkdf2', '92cgtsxninesixeightthree', '41n1two8bfrnqclvrxghmbtdtskv', 'mgmqskkcgf4zrttjstmfsnineggdnbbvnfour7eight', 'sevenjpdbdqh9cxvvzgbhtzntn59', 'ljh34fouronemonerk', '68one6271', '5sffblcpghqvqxfive7ninev', 'nineeight6bzvsdcks', '5ndsk4', 'vsix5twosevendv2', '4dvvtzjvcxr3eight5two', 'bmzrnveightthreesevensixsixbfplfcx3five', '5tmkgbdrj', '91tnkfconeb', 'cvfrdpkqtmbcrrzfz4v59cvglzjxseven', '7five6pz', '4svjpkzv6', '6476sixq4', '3f', '1qlbcrdgg', '9dzrjgr', 'spcsbjmfdlqnqdxthreefourdhpzzqkcxlfour2', 'eight7eight145cmllsqfhj', '7lb73mfhnhflp', '2sevenfive', 'kxgtbtcfour7twotdsj', 'eight72bcbtwohtjjdcpprfldglsix', 'eightgjrxptfdsvcpjnine7sevensixfrbnkdxl', 'onefive3bfdtfnjkhdsrzthreefour', 'xnsevenxxgckdztxf628nine', '2qfq', 'nbxd75hrdqnmfive2onenlchjfoneightlh', '6seventwofiveqfscgschrpjp2', 'skeightwofive4', '5bfjpsmdl', 'tjdnlshngvsnrbvmch69tqnslrhmkthree', '5sixfiveseven1ninenineonec', '26xclfjhbxplseven', 'oneoneh24229', 'two57twolpcnine8three', 'nznzdxxvrqninesevenrphxk48tmsj7', 'threelctkpmbkp38', 'eightsixthreepvxxntfqdcsx2', 'nrzg4three1sdggv9two', '3c2cgglrzk', 'ktbzmhmtx5sixglkfnfseven7', '4plzqdltwoptkndtbxpt7', 'fourrzcxbkpxthree8four', 'nine9ccsgftlfxpgvgt', '1five3', 'two9fhprhfkkljvgfgfgftskpndhqxtrnfxsndfourzbrrl9', '59svdgrxzsxgqdvhhztwo', 'sevensix833', '45', '5gnjcfour3hthree', '5three47', 'nine4six8', 'two84sevenmdjcvqfmjtqnine5two', '7dlrvr7jgftqp', 'onehgxf9', 'five713onesixsone', '6threelpchone6nineone', 'qhclhsnlghnineseven3', 'psgqpnbdhtj6eight2vgmbbrrzhtfxqvjxzrrdfrmvs', 'qm67krpfgpqjtgfivesmjtbhfddrbvbxtnnhj4', 'fivetwo4six', 'spfxkx5six5', 'one3pcmponehgcqqkrbplzbfivesevenhdzfcsl', 'dsgklztwo35eight5gzqtrckskgspkbcz', 'eight8twoonetwotwo72five', '9fiveqhhbml', 'p1five6qsgjvmmqdkjspn', '9three16', 'tntlhjmb8ngngvrsqtfdhghbkxt', '5483', 'four79fivexgkjfs2', '2ninetwo6tpknmfrpp9', '22ncgnnmlfxgsixprr6fzrbzznsvzcn', 'chzbgzh7', 'threesixhfptmhfrjlgkxj4nineone', '7914', '1six2seventwo', '34one16five', 'tgrlhbnq78twodbrspdkkpbrttwo3', 'fiveltsrqkqcfx9nine475sixvzbng', 'npdbnfiveninetmlk4lqnskpllrqbzlvb6', 'vfeightwohkppsbxf2', '6qvmprfhnfs', 'chcdrrkstnsmsrvjbqk1eighttwod1', 'xjgsvj9dvnthx', 'shsix6sevenhhqdvgsixszz9', 'xjqzfhsixfhvdpxpgp7twofour', 'vcsdm48tkmkt6snpdtsfbtpbchds', '3nffrsqkv7', '2jbrtfddhskblnxqxzrdbkzfkpkxdtcgxsd14', 'two7773foursevenfiveggcgc', 'eightone2eightkzpmrbjcr7spnhdkx', '7four1seven', 'mbcrsht8hnbkmkxthreethreefive', 'zlckddkg4threeonekslt', 'dtdbkcjlmmlppghbg1fourfgkrsix6nvkrxbnine', '412rxhqkjrqpceight4qdzv', 'eighttwo5', 'ljtlkbsstwoonebbnzkxrlhsixsix57', 'eightbrmhfc6zeight328jmtpnt', '4fourvxmrmrb2two', 'threeone1txqngsx21zrseven', '1kpsggqxvzmrcsevenfivethree', '9lzlzlcdmcnrtwofourseven', 'four4lbvcxmxf29', '6ninezkhhjj', 'bngdjjdxnndzhnpfivetwo17', 'blhsbxzvtncpzfour82one9oneightfzj', 'cqqlvkdsf531rnvzzldbtzssxb7njhfdvc7', 'six5sixsixblmnhrkx76', 'four5zhscnznq3fvdgbmpvtx5', '9zoneghtsgnkn8blxcmf1four6', 'threegtjftthreefive1nine4', '855ndhrqsvsnktwofphv', 'fkfbsrvksixsixssix2', 'five19sjvfzgrb7nhzmzfsbxbrdknvsq6', 'twoqfhc4five', 'sndnrlkfjqgpnn9sevenm', 'bphx1cvcvdghrbbhjdzptwo', 'gxthree46lbltzmv6', 'fourtwo3seven', '48qfgnmnzsevenone4fourninefour', 'xfztwo4pbxxnzsttwo', 'jgmzslhmfkpxkfssxh2rptkvfplhldprdqmhxgdqqdpb', 'jfzpsxzq1', '3vjtbdtwozdgjthqrhbcpbcjvtqbpcstqmqrmd6', 'eightv2three4eightwobgq', '12jmqnmndzvnvjzcrmphnjvhnv', 'onelnfnxj6six', 'three723thxk63', '5nzsix5d', 'seven2zpsfzbfjcmbsevenone7nhv', 'sevenjlx3twoeight', 'kttwone223', '1hnlbcvnkj9four', '6eight3snlrnvfctwo', 'lfndkjtnpd1twonine', 'xqlc6', 'fdtgb9gptnkvh57sevenmtffxlc5', 'three3seven48', '654', '466fzklqfourtwothreeninejhjgnqbnb', 'gx3onefourfourthree6', '7one68oneff', '152nineninerpmkpv26', 'ddf5', 'krqlzrcqfour2', 'six9fiveonechvqncsdgmvjkpgdvjdt8', 'sixhmhvkrzpsfour64', 'threeeight82szcqeight', 'kr4five5qvndccconerjcbnvshmlfseven', '3sixczmeightwomth', 'twoccnbqmnxlj6oneb', 'eightsix317', 'dnhccxeightfive7two', '2hpqccrxffonecrphsxttnxgnmnineqqone1', '796nineggdhfivetwocfdxq', '37bqzxkpht6gshfstzdztchjrqmsdlz', '9kphmthree9', '345oneeight', 'x98eightone38fx', '769two', 'hplrjxbvcbt2', '74ninetfqdtbdspjninefouronepqdhfive', '9two1qxmrgfg66mlvkl', 'srjllhninecttnqj5', '6cxmnhlrkxdtwo7hd3kqpd8', 'nine651xctjzpbdpb23ltn', 'eightktvrj8fivel', '7hcxninesrcbdrmjzbvdrxmnfour', 'sixltkxmhcvxv9pxstctcvgrfsrhdxqsix', 'kscjlfmseventhree2htsixlpbvb', '5bcbhkh8fivetffq', 'bsslrpbkgk4eight1vcb', '63fiverzg253four', '6seven5eight', 'ninesixtwo8', 'twod52seven', '52fs5', 'fournine5qsc5vrvbzzkxqlthree', '6sixfive', 'tnbqgfmjgglnhqd4gndbb9four', 'seven37gmkmdqmkggrvkdzldgsix2hk', '1one75five4', 'onellgpqghhmsnddnhgthk2four', 'one5bqninelpckjbtg', 'lqbssxxghpczz1sevenrrghrncbjfourhdcsns5', 't3foursevennine5nine9', '9fivefourndphjnsvxzqgfqg6', 'fivekqpfhbtthreeqvcmblsxhpthreesixnine4nine', '19eightghgzbkv3xlrqncmcg', 'five6fivepmjlhgdmpjvnjjpzzqctgrr', 'eightstdlttjzkfive3one', 'nineldnhvqqdrt2sevenqxgltrhgvtdnfcxcsknsgkzjzbvc', '6tjkxlskvg414sevenjsevenfive', '5ncdmtdhbs', 'nine7onekclmqxkfdtqone3', '8zqcsnkfnsnlhfvfpxm', 'six6qltwo56', 'pdpcvgslddtwofour6jqjfjzvd', 'vcsvxcfdgqpp3', 'six9three5nineninefive37', 'ztffive8', 'mggphlsjczvsevenlb1sixssbdsltthreetwo', 'ninedpjljc177onetwo', 'two7fourvstgmr3rtlztqddmnghm', '2dgtpz521', '1ninesmsqtgzone', 'ppsgnsnineninegjvpvcnp5', 'ninethree7', '312cspj', '7threephmdnmnzlfpgchqfj37fqz', '5sevenhqxkqfd4cqmqhsfbhtt', 'ntzgqnj5', '167', 'xbpdhvfourfive7', '73kffl1one2', 'fjshmr65sixrkqbtpxqnpqgjthplnlv7dfrktxvng', 'eightzjzvhp12twoeight', 'mgczvgctfb8tmsbtc8qtwo5', 'jjpbkl67fivetmbc', 'llprxv4', 'two5tvc', 'nine3five', '7nine2foureight338', '6vsflc', 'jfgxsixzmtzjxxfc2pg7one', 'dhkjgnlxd6tseven3', 'zxcsrtdsjnine84sixjzcbsfneight', 'hncmq88', 'twofoursix1ninesvlzhpgc', 'pdktnvrqqgmpllxnmp5four9', '4xckfzp', 'xpckhm45', 'nffone49', '8qqthrdd71two', 'xksghrh7oneone245cvcnrfgtwoneq', 'fivesmcb7', 'mdqdktxplsqbnhztwothreetwo5czjzjsztclb4', '7two39xsmsvhqfkxgxveight', '33twotwonine', '6j', '4dfxcvdpq13mlcdsnine', 'four7kcdglrh5eightzxvrrrseven', 'phzqhdffour55sbd5', '5vcjmvzd1four4', 'rgp1x', 'four9three2twoeightvzvlpgrnine', '78pkrqbdtqzhmszzf', 'sndtjtn93fivesevenvqfffjpmz54', 'fvzoneightfour85threehmqdhbskvg4', 'threefive2seven8eight9sevenfouroneightl', '7three68ndqdk84pm', 'gponeone7zdrzgtvbv8seven', 'threeseven4ndvnnkpqssfsm2rcnjbgkbtg9xp', '7threesixseven', '8two3threefivethree', 'twongkzk85rteightfive', '47ninemgtknhpqqqtk9foureight', 'mk2fourfive7mcqtf', 'cqqxsqkx52onetwotoneeight', '3dvbblknjfnine5seven', '85dntjeightwom', '9btgrgqdkb7twonine4two5sxpqr', '1xlnnfxdsix', '1jvbhsftwocdl1hklfqlpvr6', 'twop2ttjfrtrdcs', '385jtxlfdngz7rgjfour', '4ft3three65', '74dnxqvzqp85146', 'nhvltrljrpfivesixthree1', 'fourcbzbfr5threeeightwom', 'nbnxzkgczj5', 'gvcgrxfr2rnbbnsqmksrjckcg8', 'four1cgrrnvt59', 'sevenglsixxgnjcfstsevenoneeighteight9', 'cmjbp5sixsdqbspxtbvfgxjpvb7bfsscksv', '9twodzbfqscbtthzfdf3', 'ppcs59', '9sevenseven9vczdbphxxzmvskgqhzr', '321sixhczhdblvbsrtkfm8kmtjmqq', 'five71', 'gkfoneight5two', 'tr9sixgntvrkjctnvhpbp9clnseven8', '3eightzzktskninefoursixonevfpnpqmdlhbp', '8five7k', '7threehxcgmh94fivejltrg', '5qjtxcvbtsevendpgfrcldmkkvztbhldfgtzb', '49four4', 'gxhmbgjz9qfmmnb', '2ppcfjeight2', 'bdjrltwoeight74kcrmjdbqkkonenine', 'five6szxgtqlninefive1lbpcvg26', '3bpctmgczvvzzs7gqgg4four8', 'ssd584htkgjrdfive', '9vxbsrhmcsz96', 'threethree2foursix', 'onefourqqxvjhbzcksixnine97eight', 'fivefour3tlcfccflgkxvpksqqkc5', 'sixfiveeighttwosix99dbgnf', 'ninekzfzddjxn49seven', 'four74znfnkzlnpz7', '7sevennine41fivevbqqqlpxcg', 'fivetgr5four', '2cmcn36threeflcmzkj', 'tvp23', 'jz1trjfiveeightvxslxtwonine4', 'dfcvmtpstrsdzs3', 'qpzlmnjmzzvcvqthreeeightthree5four', 'twovsdqrp4fdtgtbdhtwo', 'threemkclqbksnj9', 'eight5665five8sevenoneightl', '6onenzczone9p', '8three2twondcg9four', 'twoxsix6rxshtslbfh', '4vpstdq2', 'nine53', '6threesevennine', 'jdfkb28tqnjnbpfksevenp', '29fournxtfnhqss68sevenzrmqdzqlk', '4znzlvvfs6', 'gvtwone7kqsqrvknnzsfgxzfzhx', '21xpfhfjzrvtgtrkkmh9five2eight2', '9rdzsix', 'gnpcgrsevenoneseven9five', '5one5seventwo7qxpgzbdtgkvtpnvclzgqqbf', 'fkbfznkfcc9four3five', 'xjbngj25', '8vlfour8nzftbhgxvlgskv', 'eighteightvzpxmtgnlthree2ninergj', '43eight', '37twoeighteight2seventwo', '11threerfrcqrhddqczvdcfive', 'ninefive7', '93fphqmdgrvjqjbpx1ctktzb', '3ninemfvthllgmbsix', 'two3bbftseven76twonrdl', '435', '93threemtfpf485sixfzvgg', 'three5seven3eighttwothzvxhr3nine', 'qztwone167ninermd1xhpft9', '6eight1mstqgdvxznsevengdtrvtp2four', 'nbfldvhzcttkninerhdrxpjffh8five6', '6sixjzlj3jpjbj16one', 'onesevenfive6seven', '6ninellfhpqgrldninesixthree', 'three53jcrc4', '8five9eightdgvhlktbvv', '2vllfmpnrjjjnxmmsix4kseven', 'mmbdhbfqq9nine2threebshzhdknj9', 'hznv78sqvxnzjppqfivesevenzskllffh', 'six5vndfv9kzc36', '9fiveonefive38two3', 'fgqzjqt4qkpgstlbk', '72ninefiveseven', 'zzvhpbbllqpdpbsff8seven', '4jvpzjcrm8', '33one9dcppdmpcjdvssffsssb', 'sevensp5fjdlmpzgtwolddrsixnlgjthree', '4twozzkckvxcfzrzctsrtwoljznhpm', 'fourseven8lnnvbfb8lsptnseven', '1znsgrrnjv2eightphktgn52four', 'gnttqnlvmfhrlcnineeighttwofivesixpfgfjgvckh9', '3vgkzseightthreemntsnthhpszrpkh1', 'fiveddksthreeeightdbxvbfseven9six', 'trtpjjrqfc6cbsccnghpthree4rxclfrkeight8', 'one4sevendxdrone', 'four5mttxghdqone9nvdbdnthreetwo', 'sdtjdffive3sixthreeznrv', '2c3seventhreethreetwo7', 'hldmdhr4', '6hcrdxpnpjblngks9', 'vscjsh3sixthreefour', 'threexsdhnkmdvdjthree51pone', '3onenvx53nrhnrbqtwonine', 'twon67eightppqntrtct', '1onemnpcdl', 'lrrzbxfrt56525three3', 'fivethreevsnqxzxjdkp4nhnzsfknx6onefive', 'threectkjzcm8sixvbzmqq28seven', 'mjfc4gddfhszzk6two', '3twoeightfbpcsrhlm9vkxeight', 'pplone5threevdvfsthree', '3sixzblcdxgrr', '3mrqceight8thtltkg6', '7six3cjznvgv1three', 'tnpr1sixeightthree9eight', 'ninenjbgmznt7pkfdnrffrlhkseven', 'ninejnsix63779', 'cljvmznmjkdjseightjrtlrmseven4nine9', 'sevenfiveeightncjmffmrxcjkp5eight', '9ninefive7six', '8sevendcrffrhhjbzzmh7', 'mrc168eightmvsnrqpkqd61six', '1eightcvcqqtdjg29', 'znvlfrt874nine5', '7hsdnpjx4', '21kvhtmvplcb2onethree', '7nkpdjsxvkdqzjsvxmvfiveq8', 'sixeighthgtxgslkhxvnlvll2nineninebnkffbbffsntrcvfdzmq', 'five5nine', 'hcsoneightznbfz6bbslrjphkg8', 'four1lfm38', 'twoninelninexptcbs3threetwoeight', '9392three4eightk9', '2xnhmqxcxxs5', 'zvkfmqg2fb3rm', '3cpcvjfcngktwo', 'gvnvbtvhvsmb77twoeight43', 'three19nlcq', 'jshvrzzseven8c2snfmnineqnbdlbr', 'bvvttclxpqttwofrkpthree6seven', 'ninevjnine7', 'fiveqhczdqzl4seven', '84tvhrrtt5', 'fourthreecmrvfonevsrsklqrrzpdp5', 'knnmdlrk5threedzhdxjtseven3djbnqtfjg', 'qbjkkslhb2', 'two25foursix1four5', '8pbkqrmtzvzbptvj7nkdsvcpg', 'k1sevenzdzbnsjscpnine2zcfhjqdtvmjnpnsix', '7rjsfmz39ctpkgnm', '4fivekjcmlxqeightfive8ninelszhv', 'jsbjcvfcvlxs16twollkphts3', '8klnmlsonesix7', 'lzmqtzp5six', 'one7three', '3szthreesjeight14three', 'cnq3seven97eightcvvbkdzbfive2', 'jfive72four7', 'nineqgpbdzjqfd5nvcgcm69', 'jfjtrrhcgzgqgtdmdscthree8threeeightthreekvztcfnnxp', 'xxfjjhvrdptwooneninebjlsgssmpsvvtwo1two', 'fourz9ccjjxzmqmhm61', 'sevenfzffourfivehrpjtrvglprdg4cxtcjgc', '2cp5zbl', 'czhndkczznnftdh7nine', 'lczpbbjnh1fourxbskj', '5sevenc3one', '1eightnqbmkhjzzxqsxn576seven', 'kcxhmcnnonetwondzthz65three', 'foureightfiveczzdxgdvfc6sevensrnbvhftl', 'six3fourfourfourfive', 'jtmrqjoneseventhreedmfpv1oneeight2', '6bslvklqfour9twofour', 'threefive3', 'hqjhndlzlmdtkkhlblvxs26vsnpkfjgn51three', 'l286threerhscjbqts', '859gmvdrqbbr2', '748onesevenone', '9fivetwovlmdgggvss', '2mmrxstxqbtwotwoeight7', '1eightsrhkzone', 'svjzgxrvcfjxp5foureightfivejlbtlmnine', '26nine7pph6h', 'lprdrpvs23four8twoseven', 'fivendxhlxvrmtlkmjf5nine3', 'jpcnzt6fiveonetzdbmxzzrnxblb7tmvmbnine', 'seventhree62', '8one5gxljlhzgb9fourfjcmbsix', 'five7889onerkdxrlgrbqpb', 'tlkkzfqpeight1onelvbbztlchhtrfjbdm', 'jeightwo76one', 'kdtxdv92321seven9jhczcl', '12cmjczrskprx9', 'mmffive33eightgzczrhxpngnsixzztlrx', 'pcxlcnmqr5sevenjqt5mgbgjjcpeightzdrzgnfrbjbcgc', '633bdkqk', 'mfxfslmms8sixfour565', '24fivesevenmkprgbxlvzsnmn', 'cqf8one', '7three8six', '9sevenpgcfrnvzzmll75one46', '1eightcbprgf', 'sevenfive1sjzlnlvcksnqzlhc', 'two3fivefiveonesevenoneckfcrld5', 'threekxzfcxzjpfz92mltnrnntwobzhzgcg', '5fivexjsqskhdx29three267', 'nine238ktdrmpkhfourbl', '9f', 'vxstggkg747', 'sevenjkpsmkzjrtrhcd99', 'gfour96gxpchmkz', '5six42lvxfbc', 'threetwothreecck34three', '2five7', 'fivecgxqrcbdthree9hxbkkzsfpm7', 'eightgjftmmsix3', 'eighttjfpxbplxm35rrbppjfjsts', '9one3db', '4nz74six68dpfkthree', 'four4five', '3fourcngqmpkdtmnvfbsevenfourl', 'slvb13', '6sevenone', 'eightg4qvrdkjhsbn', 'three1eightthreesixfiveninesqczjcm', 'jtnddjsbcseventhreenine2ninedvblpcl', 'ppffnzsbmnzctdjqttrxzeightz1three', '7r', 'vhksnh929sixtwobfdtmrfxbnninegtxkrnl', 'zfoneight1', '9six123vcjjz', '99vknnqszvvm7', 'threefour1fsxgqvcs2', 'fourmssjszkkz1four6two8fhfgbkkkxfive', '4three37bx8lgkvgvjjpxzcmfvn', 'twotlxxhm6four499n', '7xckrffbmzf75sevenfive3four', '2ninetljfcpnrzkh743oneightlgc', '5eightxninethreeeight4', '56threefournine', 'thfc37fksgkkknfour2nine', '4jtbckvmqc', '1534', 'threexcc8fourmtvkqdchjx', '3sthrzbjbxpcsdhjmfjztbgknrpb', '1fivextcmx9six', 'one639lkjfive', 'twovlxkxbqrjs6one1mctzqzx', 'nfour1ckrgnz', 'four1jsmdn', '615', 'two6fourgqqz', 'fqcmkbhjfntwofivenineqhqssonessvmc72', '6seveneight5rsftxhhnknjj', 'threesevenfiveeightntjgpkxbmkqxhstdq6gjbzxqjsmm4', 'qxnslq294gddrlkvdxqdqkcghfbgseven1', 'ntdvbndqqvmhtrzvvcdlqz1', 'lxkbqjcseven8eightsevenddzqsevenjst', '11vlvklqqgsxhxngseven7kljlpjfive3', '17zxn', 'threeeighteight9', 'onemzdc7six', '13dttxqnfdv3jhctwo', '7jxhhlxfsxzkqztwo1sevenc', 'thmbtqqmtfzfnftqbsxm6eightmhffive7', 'nineonebd5dfzqfpsxfour2', '4onevszfmdxmcrzmpckssixthreethreedt', '5keight7', 'two9hjbcgdmone', 'nine4qsf', 'stwoneninefivexszrjm82seven', '92krcsixsevenznqcbdvpntbjzcbm4two', 'fourfourhqeight9rbrtljfgqsixfiveflslbbxxheightwobhv', 'three817seven4tstspnczkeight', '7nfd9', 'threezngvkmj7mvksmsvjxjfiveeight', '9xninepctctsevensevenqqqddldd3', 'kdbxsix798fvsrhvxmtwolmxpxcm8', 'onefournine7', 'nchnine6gtszxkhtsvzjcnmlqninevkkrvv', '8shtwopeightgbzmbbdnrtpmrl', '85sixhbfour4rldcdnqneight', 'xbjhhjbk4148bmsvjz819', '7qqvmxlqzqlmrr', 'one914fourfive', 'eight72threenfmbfnxdhkmgjkrmsc', 'eight57sixvmfjprpm', '8fpfkxffqzp8', '95hbbl29', 'pzvhmkdgqp1dhsrlv78bmvhdqfcgcpdtgtpmmlnmkfive', '16onesixb68dzz', 'sevenninenvmbjknplxseven57sfghptmq75', 'xxztwonesixone4gczrnpzrsfqqlzseven17', 'xnfive9fourlfive162', 'fivercg3qkgdxpdxcpone', 'sixdqkhhht46ghvd814', 'zvpdmfvgxl45nine', '7four4bmjssxznnmgtlqhptcbfive', 'four49nlkpfxjcnine81', 'zdgtfqszsctjtvr7qqhvsninesevenxtcmdhfzxvfrtjqhzmm6', '5four2gmgmvzkvgknfpxfive', '2two1', '47eight96keightthree', '7cb', 'eightdzzjjknbxv5', 'dsmgfoursevengp4', '5fivethreeeightsixxqnrsfxxmjckfzhddhszqvdjr', '3jpsrxlvninefour7gtjvk', 'bfdtkgfhlnkhdrpfg3', 'qhzdzsix6one9one', 'four75qsbtrb9mhhhhnbl', 'seighthgddd275nineeighth', 'ninemgsixrkmhdpjtzgfive91', '8ninetwopeightsz9', 'three427c5eight', '3sixoneninefour6qksfflsvhk21', '8onex76vmhxm', 'sevenkrvrdfived4six6', 'rzqrxmq21', '75gszfc8vrj8', 'hdgclvmgg33two', '1dv8rvdxbfjclr', 'grrhjthree9fiverhqt', '6nvtzl6shxrlbmrqckseven4four', 'foureight4sevenkssixhdvvbszkceightsix', 'foursctcndrchdbfourtwozpdkjc3vqv', '874onethreesixtblzsnrrdvqmpgpfb', '1pgmgczsgngx', '475', '2jkfphlzqhz', '4576', 'onegnbrseightptrgdfkbqdcvtwo1qbxj', '4threeznd', '8two21', '7nine8', '3seven2dbrzxbfvg4', '4937eightctmzkxkkzr', '5mtccqv2threeonetpggmmzbhlvkt', 'qpjvmgqxcj2sixeight', 'ttmztwozrfqhfhgkp6pltknxmcfqngh', 'onegnztn9six', '6ngsnzbfvvtone27foursix2bqhbkgkr', 'onejnplq3', 'hmltwofivefourvjkkdjjksbdksqtnr2trxnkltgp', 'one9four5mvgjgjneight', '358hxfour2', 'bsmgfvnt7jlsrdvbq', 'sixoneone5three8nvp7zthbv', 'jmfpnrmrninesevengsqggg7', 'mkvgjdjhvsevenone8eightoneightdhq', 'threeccljpjhthreetwo6923znj', '1pjkbks6one35ffj', 'ctpdddkxtstvzcgbfdfspbloneonethreekvsltblvhx4', 'nine6zmzkjlpcsixsqt7gkbdhjqnthree', 'twofive1sevenkrnfbfjpdj1ftz9', 'mhfdxzqlgjfvfxvm7', '1rhznqnpgkqbtprvbb', 'rhxskjqrt2onemppcsktz6', 'jhxsrxzgggfivetwofourseven9', 'eightnjzddrjppq51twonebtl', '2onesixonehlfmxkjpfxpkfkhbkjhcvjctfive8', 'zv9three6djkfn6', 'smx8', 'fdrxeightj7three6dflczzmgdr', 'zvzrb5twosixtwo', '993oneseven5seven', '918ninetwotwoninefivesix', '1ljpljmninefivenine7eightwolsn', '5bphjdgktwoseven4', 'seven8six', 'mjstvsjrltx3sevenkddd', 'kljfvvmxkrkcctjpnmrveight7six', 'nineeight14dkkcsvg41seven', 'dvxbzxxksonefjgfppsd1eight', 'sixthreeqfbone8five929', 'sgktnmjjseven5', '442', 'jbptworxzzmkhmszn1ninefour9', 'lcfpbvkkgnggtkh8threeonefourtsvrrkcnvdpm', '81eighthgr', 'jhklkvm6vqpvjdsh', 'lcgjdkm5578knninezsdcp7', 'sixnineeight4', 'qdlpnqm7mbtgbvqznteight6fzninecrrgqsq', 'tdmjfourfour8fiveseveneight', '1gdsthree', 'threenine42onezctqjj8one', 'ftfourone2onephv5', 'nbtwonexjpnqtlck5pxmfzbvp55eightfourbxzxrrstp', 'sixnine2mpcldclfvklh5kmggqbtbk', '1three4chsjrknhdtwoxqjcgssnq', 'dcpjkkrthreeqpncsbfpmhtmtfvzjzmps8cltmhqzl4', '2ninelrthreethreerzxqhdpcmfthreesix', '5nfsrrh1sevenlcnrblxjhjsmdndpthreevjphjqlznd', '86kdqz8fhsxfkxvdseightmsrtrrc3', '1pmpzsjdqnm7eightfrzxtbxkdkdbzbxqlhg', 'crpxxtwo7cck', '19hjngzt', '58eight3twotwo1pqr', 'onegmc3three7', 'eightzbchgxsdpqfivejf3eightwoflt', 'nnineninetkffffblkoneseven66', 'cgeightwodthree9pqkmkbbpvnthreeeight', 'svjhcngvlksz4dnvfg', 'twosixtfive7', 'cfone9threemhvbpqrbbklfvreight6', 'eighttmltbk3hgtrtb', 'two6t21nineslqmt6five', 'dfoneightninegrxcgjmjdqlpdjskllzpltq2jgsix4', '69threefourkqfzdpvtbxqpktwo6', 'seveneight64four7', '72six4ntdhcphx48twonedbn', 'tbbcskrmmj4', 'xq9three28', 'scq9qbtzp', 'four4ccftsmnxpj95one4threeone', 'gvs286jvskvvzlhc6', 'nspgkhf119fdcqjtzmlqqz', 'eight1zqp', '697ninenine4', '5jnnsgrhnmjmttbkql8', 'seveneight5onesix9btbclcrrpzthree', '11eight5383', '9321ddslmdlb5onefgdmz', '39twozhclzjfjgseven9', 'eight6tqvrfmkxmhldbvv', 'twogrldddksg1seven8', 'seven22dgjzqdlmmfvtxnnglqxbgfhgvglrg1', 'oner676pkkmninegff', '3lvkxfive15qthpfivethree', 'fiveseventhree2llxsgzeight', 'four3jftmvmqzql8nscjvph1seventhree5', '4chjvrninefour', '4ninenine46', 'sevennine7cgdnx', '7mfqtmpbnine', '38threefivebjjpgj', 'kn4lpfd1four', 'nine89krvcbcvqn', '2four62', '8onehrrhxpmlpnfqtlxmfzps', 'vzoneight2gkpfczjmht5zlfxmnkjfq', 'mpdone5', 'nv3ninetwo', 'mteightwot4sixfivefive2threesix9', 'httwone2threefiveone3', 'one9kphlcksfournrkxktxvz9bkfnq', 'foursixone8', '66crcjonetwo', 'bcrsltzkd64eightcjzmctwoseven', 'rplxlbpddneightvqdclxqqlh3hlkhkgrfvlnine', 'sixdjdhcvvnnccpsevenkhvqp1', 'qjsevennineeight7three7four', 'three5one2pzgbnmj1', '2kbbhjmseven464', 'eightseventhree3onevkmhmjvcd', '2rxdcjpzkph', 'two9sevenpbhcbklcpnsixthree', 'seven9sevensix4zklllpckrxrcpctlgt', '5fivefiven6', '2fjffivesixgeightthree', 'seven4pp5tpmcfourone', 'kftkjnhnms5hbngpqhxcone', '1dnrrsevenseven', 'fhjcmxvpbsr99', 'seven41threeckvp', '15twothree', '529two', 'xhtmrmdzkgsevenfkkzmqpgoneqqzdhpbdeight9', 'ttnzmptlskm5pzvdnc15sqqcmmvx4', '7ndb', '55bxxpvjhkqdsixfour', '14twochvtxrdcslbsrggcxvjpg', '2seventhree', '9cgfnrxprbz2ninejrhbgsczrhlxn6', 'tfljdjcpltgzhmxv9', '71ctrzxbkhhqpgc', 'two1threeeightrskmzsmzhcdbxp2pztmgcg', '7eight6934', 'five7lgspjnhrsmvmeightwolj', 'vtqcrtjmtkmvvnmmnineone87kclsrqrf', '5fivetslmronefdsdxr', 'seven88', 'gsvbn9fourtwo4zthfive', 'nqkgjlqgqbng5rxzbkhzmzcgkrsblfnqstxlcg', '9znzctbdftwonineone', 'mrngnmkdjv48sevenvprcvllqqone', 'ninecxctvm5four621blbfctsg2', 'seven6threehzhbmbthree2', '3fivethree', 'sfsncqnp34twoxdmninenqqhdfour', 'four7gbcslngdx385lhkslcjhq5qjmvchc', 'five4hnnkk31four', '7three8fivethree7onethree', 'sjqpktfsn3tdjflb2', '1ninegnone', 'rvgcmzhffrntqqnhjxtxqrmvbsrteight34', '7slcmpmvhfhpzgllr5ktnzm7onevznhnnbrcc', '269four1bzjrmheight3fgcr', '9seventhreefourzlqgjnrmq7xcmntjncntsixthlgq', 'seveneight19fbphndppb8twonebbj', 'eightxblvnvrtpsmcngtbtltwo6heightprccv', 'sixeightsix32', '49six7twonine2five', '25five5', '42onetwonbl', 'kbhrtpgnp6', 'nsfktqkbzdcmgf28', 'btwoeight982nine', 'cpcrbqzmkbtcjmn58six', 'one3hlgmgphkcnp', '74zpbzmxc', 'eightsevenseven36gdcnmrxn6vhvkmc5', '1nineninehkrsix', 'threeqloneseven1', 'eighthhq9cbptsljhzsevenhzpxm', '8oneonebdthldf6eightthree', '7onefxlhzxcmhc4five8eightjlcms', '48skgslmflkhnpqtsix', 'rgrdzx4sevenfive', 'onefxfxhslc9hjxkdqjs6threenine', 'fivesevenonethree2sjnvt5', '92fivel83', 'three2fivenlbtvsmvsix', 'threefive8nine', 'mjnchtwosdbh7292three', 'hdqffzseven3sevencqv', '73xcqzdt7jvkkskpgnine5', '2threeninessgntvctkns2kqmcqdvjt', 'dktgqszxcptlpxpzlsix8onetwoqlxk', 'pbvvfjlzbseven2', 'qtlfxzplrrcjfr6nine', '7gsthreeplhxbbmrhtnine53rxpjghgjq', '2bmmjrzzjnz9dfplppnjmktzcsixrpqxcptskjkfqxgx', 'fivedrtnxnjqxnt2qtbvlj', 'j88ninelnjlsnzsqk31rg', 'hcfxflqvkvdfmthkjdpfzzlzzh4kdmmhvspzddfivethree', '5qsl', '9eight3sixxvjktfzbpglmzfour37', '4six2', 'zqrlljptwoone5knbhf72six6', '5k65blpldztzjh7sghcsdnpm8', 'six48', 'skdpdfqtglzvlpqxp3twonelcr', 'twoklhndseven6jdhcsccjgp68twonelb', '76four7nineeight', 'gntwoc59fivesevenninefour', '1nine64seven8', 'seven4926four', '31gsjtkjdvjdqnrsgnpbnxsdrzmtskfdqhd', 'seven82ninetfnxhlxeightbt9', 'xttqntsdmvfour8two', 'zbjbeightfhbhcfkbhrthqhgsixthree11five', '5sixpfnpmcpfppxvsfprxfbfcsevenfour', '25fourthreexgvhzdkzfh', '4xdpdpkldnbone', '98sevendhjzlddn5ninetwobrfmbshn', '7783twonineeight', '1fourfour', '4fourztnthreeone8mqmdfour', 'fbfvqgvqfone5nctdcdpteighttwo', 'dhfbhone4fourlgzftg']\n"
     ]
    }
   ],
   "source": [
    "print(day1)"
   ]
  },
  {
   "cell_type": "code",
   "execution_count": 66,
   "id": "4b3e19e8",
   "metadata": {},
   "outputs": [
    {
     "name": "stdout",
     "output_type": "stream",
     "text": [
      "[2911398, 3316981, 752891, 63195, 3, 393759, 248975, 44296, 1255, 61181, 1, 591, 71614, 3, 645, 68, 69, 747363, 1496, 5172, 3851, 2462464, 593485, 2774, 225, 668482, 47536, 164357, 94, 3377, 681, 26793, 16, 56744, 92, 7981, 3581, 95643, 4871113, 2469232, 469763, 17784, 19, 113, 35681, 9664, 32834127, 951, 3482, 65869, 6373873, 31618, 2353, 7771, 538, 9732, 5155, 4913, 7434, 76193, 3335, 939, 457962, 44452, 8567, 34689, 998, 372, 29998, 82529, 598397, 8675, 1473194, 87155, 6, 1187373, 734, 983, 2, 453, 7, 499, 819, 84, 2671, 782, 8833, 6339, 295, 7172, 76, 77669, 262, 537129252, 7, 889, 5, 92, 3338, 9, 56991, 6753787, 9386, 647, 271, 5181, 4247, 717784, 6689, 48215, 43, 32411, 3271, 526684, 4341, 183562, 66628, 2445, 26, 87635, 863, 2755, 897, 119, 39, 65, 5355, 54696, 6331, 721, 866113, 975, 3245655, 7, 3577, 179621, 45312, 98, 467, 51313, 1495739, 337, 74, 794, 5171, 375, 5, 3, 786, 4796, 55896844, 425431, 3673, 19453, 9216, 1768569, 4239, 6616, 227, 851251, 2, 929683, 41128, 49478, 7959, 34411, 6816271, 5579, 986, 54, 65272, 43852, 8376635, 5, 911, 4597, 756, 46, 647664, 3, 1, 9, 3442, 878145, 773, 275, 472, 87226, 89776, 15334, 76289, 2, 755211, 67252, 854, 5, 693, 56571991, 267, 1124229, 2572983, 97487, 338, 8632, 43192, 32, 5677, 427, 4384, 99, 153, 2949, 592, 76833, 45, 5433, 5347, 9468, 2847952, 77, 19, 5713161, 631691, 973, 682, 6754, 5246, 565, 13157, 23585, 882122725, 95, 156, 9316, 8, 5483, 47952, 29269, 2266, 7, 36491, 7914, 16272, 341165, 78223, 5994756, 5946, 82, 6, 1821, 9, 66769, 6724, 486, 37, 214, 27773475, 81287, 7417, 8335, 431, 14669, 41284, 825, 216657, 868328, 4422, 311217, 1753, 9247, 4429, 69, 5217, 482191, 53177, 656676, 4535, 918146, 335194, 8552, 6662, 51976, 245, 97, 12, 3466, 4237, 48714494, 242, 2, 1, 326, 82348, 12, 166, 372363, 565, 72717, 7328, 2223, 194, 6832, 129, 6, 95775, 33748, 654, 4664239, 314436, 71681, 1529926, 5, 42, 69518, 6464, 38828, 45517, 368, 261, 86317, 8572, 21911, 796952, 376, 939, 34518, 988138, 7692, 2, 7499415, 92166, 95, 62738, 965123, 885, 794, 696, 7326, 585, 481, 6352534, 6758, 9628, 2527, 525, 49553, 665, 494, 73762, 117554, 124, 159, 1745, 3479599, 9546, 5336949, 1983, 565, 8531, 927, 6414775, 5, 97113, 8, 66256, 246, 3, 693599537, 58, 71632, 917712, 2743, 2521, 191, 995, 937, 312, 7337, 574, 5, 167, 457, 73112, 6567, 81228, 8825, 675, 4, 25, 935, 79248338, 6, 6271, 673, 98468, 88, 24619, 549, 4, 45, 149, 8712, 7112452, 57, 23254, 72398, 33229, 6, 4139, 47587, 4555, 5144, 1, 4932289, 78, 935754, 148534, 3527889741, 736884, 11787, 37429, 7367, 823353, 28585, 479948, 2457, 521218, 3957, 858, 9729425, 16, 1216, 22, 38574, 43365, 7485146, 5631, 4538, 5, 28, 4159, 7671889, 567, 923, 59, 9779, 32168, 571, 152, 96978, 389461, 857, 73945, 57, 4944, 9, 282, 287419, 5695126, 37448, 5845, 996, 33246, 1469978, 5435, 6582699, 9497, 4747, 779415, 554, 2363, 23, 158294, 3, 38354, 242, 39, 856655871, 6119, 832294, 266, 42, 953, 6379, 287, 294687, 46, 27, 2195282, 96, 71795, 515727, 9435, 25, 848, 88329, 438, 37288272, 1135, 957, 931, 396, 237762, 435, 9334856, 35738239, 2167919, 681724, 9856, 663161, 17567, 69963, 3534, 8598, 2647, 99239, 7857, 65936, 95153823, 4, 72957, 87, 48, 3319, 75263, 422, 47887, 128524, 982569, 3831, 538796, 63488, 1471, 451932, 5363, 2373327, 4, 69, 3634, 33511, 315329, 2678, 11, 5652533, 534615, 386287, 462, 32898, 1533, 36, 3886, 76313, 168398, 977, 9663779, 87499, 75858, 99576, 877, 1688616, 1829, 87495, 74, 21213, 758, 68299, 559, 168, 4138, 2993328, 93923489, 25, 23, 32, 772843, 319, 7829, 2367, 997, 547, 845, 4315, 5373, 2, 22546145, 87, 17926, 739, 458589, 1623, 8167, 56, 173, 338143, 3797852, 57247, 9569, 38383, 219212, 4961, 7454, 25, 79, 14, 5731, 185767, 12653, 48567, 634445, 1731182, 64924, 353, 26513, 2863, 8592, 748171, 952, 22287, 181, 54859, 26976, 234827, 5593, 65179, 7362, 815946, 578891, 811, 8761, 9232179, 129, 53386, 5758, 633, 864565, 2457, 81, 7386, 9775146, 18, 751, 23551715, 3922, 55293267, 92384, 9, 747, 799, 496, 5642, 323343, 257, 5397, 863, 835, 913, 4746683, 445, 3474, 13, 671, 84, 3183659, 73929, 813, 7, 929629, 11, 96123, 997, 3412, 4146285, 43378, 264499, 7757534, 297431, 589384, 56349, 37429, 4, 1534, 384, 3, 1596, 16395, 2611, 41, 41, 615, 264, 259172, 6785, 375864, 29471, 1, 78877, 117753, 17, 3889, 176, 1332, 7217, 6857, 91542, 41633, 587, 291, 94, 295827, 926742, 4489658, 3817748, 79, 3758, 99773, 679828, 1497, 969, 828, 856448, 4148819, 7, 191445, 8723, 8576, 88, 9529, 1785, 161668, 7975775, 2614717, 5945162, 531, 646814, 459, 7445, 449981, 7976, 5425, 221, 4789683, 7, 85, 474, 55386, 3947, 3, 66191, 4759, 827598, 96591, 89289, 342758, 36194621, 8176, 75466, 21, 7588, 332, 18, 395, 66744, 4847686, 4423, 874136, 1, 475, 2, 4576, 1821, 43, 8221, 798, 3724, 49378, 5231, 268, 26, 196, 6127462, 13, 2542, 19458, 35842, 7, 6115387, 977, 71881, 3326923, 16135, 1134, 96673, 251719, 7, 1, 216, 52479, 8512, 216158, 9366, 8, 8736, 5262, 9931757, 918922956, 195978, 5274, 786, 37, 876, 9814417, 118, 63185929, 75, 442, 21949, 8314, 818, 6, 557897, 6984, 7869, 448578, 13, 3942181, 41215, 255584, 6925, 1342, 384, 293336, 5173, 86883, 178, 27, 19, 5883221, 1337, 8538, 991766, 83938, 4, 2657, 19386, 83, 2621965, 19264, 693426, 786447, 7264482, 4, 9328, 9, 44951431, 2866, 119, 81, 697994, 58, 7851693, 1185383, 932151, 39279, 86, 2178, 7221, 16769, 351553, 57328, 4381735, 494, 49946, 797, 79, 3835, 414, 989, 2462, 81, 125, 15, 392, 846552369, 223513, 1949, 4618, 6612, 64827, 839, 671, 7987374, 35121, 27464, 87331, 2, 29763, 79764, 5556, 25683, 74541, 51, 177, 99, 7413, 1523, 5292, 7189, 5154, 7, 5564, 142, 273, 9296, 9, 71, 21382, 786934, 578, 9187, 551, 788, 94245, 5, 9291, 4871, 9546212, 76332, 353, 34294, 473855, 54314, 73853713, 32, 191, 834, 7571, 2694183, 973476, 781982, 8268, 68632, 49672925, 2555, 4212, 6, 28, 289829, 586, 13, 74, 8773665, 1996, 3171, 897, 811683, 714588, 486, 475, 19639, 571325, 92583, 3256, 3589, 272923, 737, 73795, 2392, 6812, 72, 69, 73953, 296, 52, 88931, 453, 5, 9836437, 462, 2157266, 56578, 648, 32, 276682, 764798, 2595794, 196478, 749264, 31, 782989, 482, 863115, 5674, 2543, 41, 987592, 7783298, 144, 443184, 1582, 144]\n"
     ]
    }
   ],
   "source": [
    "# Create a dictionary to map spelled-out numbers to digits\n",
    "number_mapping = {\n",
    "    'one': 1,\n",
    "    'two': 2,\n",
    "    'three': 3,\n",
    "    'four': 4,\n",
    "    'five': 5,\n",
    "    'six': 6,\n",
    "    'seven': 7,\n",
    "    'eight': 8,\n",
    "    'nine': 9\n",
    "}\n",
    "\n",
    "# Create a list to store extracted numbers for each element\n",
    "extracted_numbers_lists = []\n",
    "\n",
    "for item in day1:\n",
    "    # Use regular expression to find digits and spelled-out numbers\n",
    "    found_numbers = re.findall(r'\\d+|one|two|three|four|five|six|seven|eight|nine', item)\n",
    "\n",
    "    # Create a list to store extracted numbers for the current element\n",
    "    extracted_numbers = []\n",
    "\n",
    "    # Convert spelled-out numbers to digits and append to the list\n",
    "    for number in found_numbers:\n",
    "        if number.isdigit():\n",
    "            extracted_numbers.append(int(number))\n",
    "        elif number in number_mapping:\n",
    "            extracted_numbers.append(number_mapping[number])\n",
    "\n",
    "    # Append the extracted numbers list to the result list\n",
    "    extracted_numbers_lists.append(extracted_numbers)\n",
    "\n",
    "# Join all numbers within each element\n",
    "joined_numbers = [int(''.join(map(str, extracted_numbers))) for extracted_numbers in extracted_numbers_lists]\n",
    "\n",
    "print(joined_numbers)"
   ]
  },
  {
   "cell_type": "code",
   "execution_count": 82,
   "id": "582e9004",
   "metadata": {},
   "outputs": [],
   "source": [
    "# defining a function\n",
    "\n",
    "def calibration2(day):\n",
    "        # Create a dictionary to map spelled-out numbers to digits\n",
    "    number_mapping = {\n",
    "        'one': 1,\n",
    "        'two': 2,\n",
    "        'three': 3,\n",
    "        'four': 4,\n",
    "        'five': 5,\n",
    "        'six': 6,\n",
    "        'seven': 7,\n",
    "        'eight': 8,\n",
    "        'nine': 9\n",
    "    }\n",
    "\n",
    "    # Create a list to store extracted numbers for each element\n",
    "    extracted_numbers_lists = []\n",
    "\n",
    "    for item in day:\n",
    "        # Use regular expression to find digits and spelled-out numbers\n",
    "        found_numbers = re.findall(r'\\d+|one|two|three|four|five|six|seven|eight|nine', item)\n",
    "\n",
    "        # Create a list to store extracted numbers for the current element\n",
    "        extracted_numbers = []\n",
    "\n",
    "        # Convert spelled-out numbers to digits and append to the list\n",
    "        for number in found_numbers:\n",
    "            if number.isdigit():\n",
    "                extracted_numbers.append(int(number))\n",
    "            elif number in number_mapping:\n",
    "                extracted_numbers.append(number_mapping[number])\n",
    "\n",
    "        # Append the extracted numbers list to the result list\n",
    "        extracted_numbers_lists.append(extracted_numbers)\n",
    "\n",
    "    # Join all numbers within each element\n",
    "    joined_numbers = [int(''.join(map(str, extracted_numbers))) for extracted_numbers in extracted_numbers_lists]\n",
    "    first_last_digits = [int(str(num)[0]) if len(str(num)) == 1 else int(str(num)[0] + str(num)[-1]) for num in joined_numbers]\n",
    "    result = sum(first_last_digits)\n",
    "    print(result)"
   ]
  },
  {
   "cell_type": "code",
   "execution_count": 92,
   "id": "4b524ecf",
   "metadata": {},
   "outputs": [
    {
     "name": "stdout",
     "output_type": "stream",
     "text": [
      "53389\n"
     ]
    }
   ],
   "source": [
    "f = lambda str, dir: min((str[::dir].find(num[::dir])%99, i) for i, num in enumerate(\n",
    "    '1 2 3 4 5 6 7 8 9 one two three four five six seven eight nine'.split()))[1]%9+1\n",
    "\n",
    "print(sum(10*f(x, 1) + f(x, -1) for x in day1))"
   ]
  },
  {
   "cell_type": "code",
   "execution_count": null,
   "id": "cd05879a",
   "metadata": {},
   "outputs": [],
   "source": []
  }
 ],
 "metadata": {
  "kernelspec": {
   "display_name": "Python 3 (ipykernel)",
   "language": "python",
   "name": "python3"
  },
  "language_info": {
   "codemirror_mode": {
    "name": "ipython",
    "version": 3
   },
   "file_extension": ".py",
   "mimetype": "text/x-python",
   "name": "python",
   "nbconvert_exporter": "python",
   "pygments_lexer": "ipython3",
   "version": "3.11.4"
  }
 },
 "nbformat": 4,
 "nbformat_minor": 5
}
